{
 "cells": [
  {
   "cell_type": "code",
   "execution_count": 1,
   "id": "90a9b901",
   "metadata": {},
   "outputs": [
    {
     "name": "stdout",
     "output_type": "stream",
     "text": [
      "         country  year iso_code  population  gdp  biofuel_cons_change_pct  \\\n",
      "0  ASEAN (Ember)  2000      NaN         NaN  NaN                      NaN   \n",
      "1  ASEAN (Ember)  2001      NaN         NaN  NaN                      NaN   \n",
      "2  ASEAN (Ember)  2002      NaN         NaN  NaN                      NaN   \n",
      "3  ASEAN (Ember)  2003      NaN         NaN  NaN                      NaN   \n",
      "4  ASEAN (Ember)  2004      NaN         NaN  NaN                      NaN   \n",
      "\n",
      "   biofuel_cons_change_twh  biofuel_cons_per_capita  biofuel_consumption  \\\n",
      "0                      NaN                      NaN                  NaN   \n",
      "1                      NaN                      NaN                  NaN   \n",
      "2                      NaN                      NaN                  NaN   \n",
      "3                      NaN                      NaN                  NaN   \n",
      "4                      NaN                      NaN                  NaN   \n",
      "\n",
      "   biofuel_elec_per_capita  ...  solar_share_elec  solar_share_energy  \\\n",
      "0                      NaN  ...               0.0                 NaN   \n",
      "1                      NaN  ...               0.0                 NaN   \n",
      "2                      NaN  ...               0.0                 NaN   \n",
      "3                      NaN  ...               0.0                 NaN   \n",
      "4                      NaN  ...               0.0                 NaN   \n",
      "\n",
      "   wind_cons_change_pct  wind_cons_change_twh  wind_consumption  \\\n",
      "0                   NaN                   NaN               NaN   \n",
      "1                   NaN                   NaN               NaN   \n",
      "2                   NaN                   NaN               NaN   \n",
      "3                   NaN                   NaN               NaN   \n",
      "4                   NaN                   NaN               NaN   \n",
      "\n",
      "   wind_elec_per_capita  wind_electricity  wind_energy_per_capita  \\\n",
      "0                   NaN               0.0                     NaN   \n",
      "1                   NaN               0.0                     NaN   \n",
      "2                   NaN               0.0                     NaN   \n",
      "3                   NaN               0.0                     NaN   \n",
      "4                   NaN               0.0                     NaN   \n",
      "\n",
      "   wind_share_elec  wind_share_energy  \n",
      "0              0.0                NaN  \n",
      "1              0.0                NaN  \n",
      "2              0.0                NaN  \n",
      "3              0.0                NaN  \n",
      "4              0.0                NaN  \n",
      "\n",
      "[5 rows x 130 columns]\n"
     ]
    }
   ],
   "source": [
    "import pandas as pd\n",
    "\n",
    "filename = 'owid-energy-data.csv'\n",
    "\n",
    "data = pd.read_csv(filename)\n",
    "print(data.head())"
   ]
  },
  {
   "cell_type": "code",
   "execution_count": 2,
   "id": "e195af21",
   "metadata": {},
   "outputs": [
    {
     "name": "stdout",
     "output_type": "stream",
     "text": [
      "1965\n",
      "2024\n"
     ]
    },
    {
     "data": {
      "text/html": [
       "\n",
       "<style>\n",
       "  #altair-viz-cf95920a56524c2b8a1dc5dafeba866b.vega-embed {\n",
       "    width: 100%;\n",
       "    display: flex;\n",
       "  }\n",
       "\n",
       "  #altair-viz-cf95920a56524c2b8a1dc5dafeba866b.vega-embed details,\n",
       "  #altair-viz-cf95920a56524c2b8a1dc5dafeba866b.vega-embed details summary {\n",
       "    position: relative;\n",
       "  }\n",
       "</style>\n",
       "<div id=\"altair-viz-cf95920a56524c2b8a1dc5dafeba866b\"></div>\n",
       "<script type=\"text/javascript\">\n",
       "  var VEGA_DEBUG = (typeof VEGA_DEBUG == \"undefined\") ? {} : VEGA_DEBUG;\n",
       "  (function(spec, embedOpt){\n",
       "    let outputDiv = document.currentScript.previousElementSibling;\n",
       "    if (outputDiv.id !== \"altair-viz-cf95920a56524c2b8a1dc5dafeba866b\") {\n",
       "      outputDiv = document.getElementById(\"altair-viz-cf95920a56524c2b8a1dc5dafeba866b\");\n",
       "    }\n",
       "    const paths = {\n",
       "      \"vega\": \"https://cdn.jsdelivr.net/npm/vega@5?noext\",\n",
       "      \"vega-lib\": \"https://cdn.jsdelivr.net/npm/vega-lib?noext\",\n",
       "      \"vega-lite\": \"https://cdn.jsdelivr.net/npm/vega-lite@5.20.1?noext\",\n",
       "      \"vega-embed\": \"https://cdn.jsdelivr.net/npm/vega-embed@6?noext\",\n",
       "    };\n",
       "\n",
       "    function maybeLoadScript(lib, version) {\n",
       "      var key = `${lib.replace(\"-\", \"\")}_version`;\n",
       "      return (VEGA_DEBUG[key] == version) ?\n",
       "        Promise.resolve(paths[lib]) :\n",
       "        new Promise(function(resolve, reject) {\n",
       "          var s = document.createElement('script');\n",
       "          document.getElementsByTagName(\"head\")[0].appendChild(s);\n",
       "          s.async = true;\n",
       "          s.onload = () => {\n",
       "            VEGA_DEBUG[key] = version;\n",
       "            return resolve(paths[lib]);\n",
       "          };\n",
       "          s.onerror = () => reject(`Error loading script: ${paths[lib]}`);\n",
       "          s.src = paths[lib];\n",
       "        });\n",
       "    }\n",
       "\n",
       "    function showError(err) {\n",
       "      outputDiv.innerHTML = `<div class=\"error\" style=\"color:red;\">${err}</div>`;\n",
       "      throw err;\n",
       "    }\n",
       "\n",
       "    function displayChart(vegaEmbed) {\n",
       "      vegaEmbed(outputDiv, spec, embedOpt)\n",
       "        .catch(err => showError(`Javascript Error: ${err.message}<br>This usually means there's a typo in your chart specification. See the javascript console for the full traceback.`));\n",
       "    }\n",
       "\n",
       "    if(typeof define === \"function\" && define.amd) {\n",
       "      requirejs.config({paths});\n",
       "      require([\"vega-embed\"], displayChart, err => showError(`Error loading script: ${err.message}`));\n",
       "    } else {\n",
       "      maybeLoadScript(\"vega\", \"5\")\n",
       "        .then(() => maybeLoadScript(\"vega-lite\", \"5.20.1\"))\n",
       "        .then(() => maybeLoadScript(\"vega-embed\", \"6\"))\n",
       "        .catch(showError)\n",
       "        .then(() => displayChart(vegaEmbed));\n",
       "    }\n",
       "  })({\"config\": {\"view\": {\"continuousWidth\": 300, \"continuousHeight\": 300}}, \"layer\": [{\"mark\": {\"type\": \"line\", \"color\": \"green\"}, \"encoding\": {\"tooltip\": [{\"field\": \"year\", \"type\": \"quantitative\"}, {\"field\": \"renewables_consumption\", \"type\": \"quantitative\"}], \"x\": {\"axis\": {\"format\": \"d\"}, \"field\": \"year\", \"scale\": {\"domain\": [1965, 2024]}, \"title\": \"Year\", \"type\": \"quantitative\"}, \"y\": {\"field\": \"renewables_consumption\", \"title\": \"Fuel Consumption in Terawatt-Hours\", \"type\": \"quantitative\"}}}, {\"mark\": {\"type\": \"line\", \"color\": \"brown\"}, \"encoding\": {\"tooltip\": [{\"field\": \"year\", \"type\": \"quantitative\"}, {\"field\": \"fossil_fuel_consumption\", \"type\": \"quantitative\"}], \"x\": {\"axis\": {\"format\": \"d\"}, \"field\": \"year\", \"scale\": {\"domain\": [1965, 2024]}, \"title\": \"Year\", \"type\": \"quantitative\"}, \"y\": {\"field\": \"fossil_fuel_consumption\", \"title\": \"Fuel Consumption in Terawatt-Hours\", \"type\": \"quantitative\"}}}], \"data\": {\"name\": \"data-24aac6a84fa58ba524e0376a5d510c83\"}, \"height\": 700, \"title\": \"US Renewable Energy Consumption vs Fossil Fuel Consumption Over Time\", \"width\": 700, \"$schema\": \"https://vega.github.io/schema/vega-lite/v5.20.1.json\", \"datasets\": {\"data-24aac6a84fa58ba524e0376a5d510c83\": [{\"country\": \"United States\", \"year\": 1900, \"population\": 74829905.0, \"primary_energy_consumption\": null, \"renewables_consumption\": null, \"fossil_fuel_consumption\": null}, {\"country\": \"United States\", \"year\": 1901, \"population\": 76245912.0, \"primary_energy_consumption\": null, \"renewables_consumption\": null, \"fossil_fuel_consumption\": null}, {\"country\": \"United States\", \"year\": 1902, \"population\": 77698268.0, \"primary_energy_consumption\": null, \"renewables_consumption\": null, \"fossil_fuel_consumption\": null}, {\"country\": \"United States\", \"year\": 1903, \"population\": 79187838.0, \"primary_energy_consumption\": null, \"renewables_consumption\": null, \"fossil_fuel_consumption\": null}, {\"country\": \"United States\", \"year\": 1904, \"population\": 80705948.0, \"primary_energy_consumption\": null, \"renewables_consumption\": null, \"fossil_fuel_consumption\": null}, {\"country\": \"United States\", \"year\": 1905, \"population\": 82253148.0, \"primary_energy_consumption\": null, \"renewables_consumption\": null, \"fossil_fuel_consumption\": null}, {\"country\": \"United States\", \"year\": 1906, \"population\": 83829992.0, \"primary_energy_consumption\": null, \"renewables_consumption\": null, \"fossil_fuel_consumption\": null}, {\"country\": \"United States\", \"year\": 1907, \"population\": 85437050.0, \"primary_energy_consumption\": null, \"renewables_consumption\": null, \"fossil_fuel_consumption\": null}, {\"country\": \"United States\", \"year\": 1908, \"population\": 87074899.0, \"primary_energy_consumption\": null, \"renewables_consumption\": null, \"fossil_fuel_consumption\": null}, {\"country\": \"United States\", \"year\": 1909, \"population\": 88647362.0, \"primary_energy_consumption\": null, \"renewables_consumption\": null, \"fossil_fuel_consumption\": null}, {\"country\": \"United States\", \"year\": 1910, \"population\": 90151889.0, \"primary_energy_consumption\": null, \"renewables_consumption\": null, \"fossil_fuel_consumption\": null}, {\"country\": \"United States\", \"year\": 1911, \"population\": 91585865.0, \"primary_energy_consumption\": null, \"renewables_consumption\": null, \"fossil_fuel_consumption\": null}, {\"country\": \"United States\", \"year\": 1912, \"population\": 92946603.0, \"primary_energy_consumption\": null, \"renewables_consumption\": null, \"fossil_fuel_consumption\": null}, {\"country\": \"United States\", \"year\": 1913, \"population\": 94231351.0, \"primary_energy_consumption\": null, \"renewables_consumption\": null, \"fossil_fuel_consumption\": null}, {\"country\": \"United States\", \"year\": 1914, \"population\": 95533839.0, \"primary_energy_consumption\": null, \"renewables_consumption\": null, \"fossil_fuel_consumption\": null}, {\"country\": \"United States\", \"year\": 1915, \"population\": 96854312.0, \"primary_energy_consumption\": null, \"renewables_consumption\": null, \"fossil_fuel_consumption\": null}, {\"country\": \"United States\", \"year\": 1916, \"population\": 98193018.0, \"primary_energy_consumption\": null, \"renewables_consumption\": null, \"fossil_fuel_consumption\": null}, {\"country\": \"United States\", \"year\": 1917, \"population\": 99550208.0, \"primary_energy_consumption\": null, \"renewables_consumption\": null, \"fossil_fuel_consumption\": null}, {\"country\": \"United States\", \"year\": 1918, \"population\": 100970120.0, \"primary_energy_consumption\": null, \"renewables_consumption\": null, \"fossil_fuel_consumption\": null}, {\"country\": \"United States\", \"year\": 1919, \"population\": 102419259.0, \"primary_energy_consumption\": null, \"renewables_consumption\": null, \"fossil_fuel_consumption\": null}, {\"country\": \"United States\", \"year\": 1920, \"population\": 103898175.0, \"primary_energy_consumption\": null, \"renewables_consumption\": null, \"fossil_fuel_consumption\": null}, {\"country\": \"United States\", \"year\": 1921, \"population\": 105407425.0, \"primary_energy_consumption\": null, \"renewables_consumption\": null, \"fossil_fuel_consumption\": null}, {\"country\": \"United States\", \"year\": 1922, \"population\": 106947578.0, \"primary_energy_consumption\": null, \"renewables_consumption\": null, \"fossil_fuel_consumption\": null}, {\"country\": \"United States\", \"year\": 1923, \"population\": 108519213.0, \"primary_energy_consumption\": null, \"renewables_consumption\": null, \"fossil_fuel_consumption\": null}, {\"country\": \"United States\", \"year\": 1924, \"population\": 110113945.0, \"primary_energy_consumption\": null, \"renewables_consumption\": null, \"fossil_fuel_consumption\": null}, {\"country\": \"United States\", \"year\": 1925, \"population\": 111732111.0, \"primary_energy_consumption\": null, \"renewables_consumption\": null, \"fossil_fuel_consumption\": null}, {\"country\": \"United States\", \"year\": 1926, \"population\": 113374057.0, \"primary_energy_consumption\": null, \"renewables_consumption\": null, \"fossil_fuel_consumption\": null}, {\"country\": \"United States\", \"year\": 1927, \"population\": 115040131.0, \"primary_energy_consumption\": null, \"renewables_consumption\": null, \"fossil_fuel_consumption\": null}, {\"country\": \"United States\", \"year\": 1928, \"population\": 116730690.0, \"primary_energy_consumption\": null, \"renewables_consumption\": null, \"fossil_fuel_consumption\": null}, {\"country\": \"United States\", \"year\": 1929, \"population\": 118261782.0, \"primary_energy_consumption\": null, \"renewables_consumption\": null, \"fossil_fuel_consumption\": null}, {\"country\": \"United States\", \"year\": 1930, \"population\": 119629770.0, \"primary_energy_consumption\": null, \"renewables_consumption\": null, \"fossil_fuel_consumption\": null}, {\"country\": \"United States\", \"year\": 1931, \"population\": 120830953.0, \"primary_energy_consumption\": null, \"renewables_consumption\": null, \"fossil_fuel_consumption\": null}, {\"country\": \"United States\", \"year\": 1932, \"population\": 121861566.0, \"primary_energy_consumption\": null, \"renewables_consumption\": null, \"fossil_fuel_consumption\": null}, {\"country\": \"United States\", \"year\": 1933, \"population\": 122717780.0, \"primary_energy_consumption\": null, \"renewables_consumption\": null, \"fossil_fuel_consumption\": null}, {\"country\": \"United States\", \"year\": 1934, \"population\": 123580010.0, \"primary_energy_consumption\": null, \"renewables_consumption\": null, \"fossil_fuel_consumption\": null}, {\"country\": \"United States\", \"year\": 1935, \"population\": 124448298.0, \"primary_energy_consumption\": null, \"renewables_consumption\": null, \"fossil_fuel_consumption\": null}, {\"country\": \"United States\", \"year\": 1936, \"population\": 125322686.0, \"primary_energy_consumption\": null, \"renewables_consumption\": null, \"fossil_fuel_consumption\": null}, {\"country\": \"United States\", \"year\": 1937, \"population\": 126203219.0, \"primary_energy_consumption\": null, \"renewables_consumption\": null, \"fossil_fuel_consumption\": null}, {\"country\": \"United States\", \"year\": 1938, \"population\": 127089938.0, \"primary_energy_consumption\": null, \"renewables_consumption\": null, \"fossil_fuel_consumption\": null}, {\"country\": \"United States\", \"year\": 1939, \"population\": 128160070.0, \"primary_energy_consumption\": null, \"renewables_consumption\": null, \"fossil_fuel_consumption\": null}, {\"country\": \"United States\", \"year\": 1940, \"population\": 129417367.0, \"primary_energy_consumption\": null, \"renewables_consumption\": null, \"fossil_fuel_consumption\": null}, {\"country\": \"United States\", \"year\": 1941, \"population\": 130865641.0, \"primary_energy_consumption\": null, \"renewables_consumption\": null, \"fossil_fuel_consumption\": null}, {\"country\": \"United States\", \"year\": 1942, \"population\": 132508765.0, \"primary_energy_consumption\": null, \"renewables_consumption\": null, \"fossil_fuel_consumption\": null}, {\"country\": \"United States\", \"year\": 1943, \"population\": 134350677.0, \"primary_energy_consumption\": null, \"renewables_consumption\": null, \"fossil_fuel_consumption\": null}, {\"country\": \"United States\", \"year\": 1944, \"population\": 136218191.0, \"primary_energy_consumption\": null, \"renewables_consumption\": null, \"fossil_fuel_consumption\": null}, {\"country\": \"United States\", \"year\": 1945, \"population\": 138111665.0, \"primary_energy_consumption\": null, \"renewables_consumption\": null, \"fossil_fuel_consumption\": null}, {\"country\": \"United States\", \"year\": 1946, \"population\": 140031458.0, \"primary_energy_consumption\": null, \"renewables_consumption\": null, \"fossil_fuel_consumption\": null}, {\"country\": \"United States\", \"year\": 1947, \"population\": 141977937.0, \"primary_energy_consumption\": null, \"renewables_consumption\": null, \"fossil_fuel_consumption\": null}, {\"country\": \"United States\", \"year\": 1948, \"population\": 143951473.0, \"primary_energy_consumption\": null, \"renewables_consumption\": null, \"fossil_fuel_consumption\": null}, {\"country\": \"United States\", \"year\": 1949, \"population\": 146051521.0, \"primary_energy_consumption\": null, \"renewables_consumption\": null, \"fossil_fuel_consumption\": null}, {\"country\": \"United States\", \"year\": 1950, \"population\": 154202632.0, \"primary_energy_consumption\": null, \"renewables_consumption\": null, \"fossil_fuel_consumption\": null}, {\"country\": \"United States\", \"year\": 1951, \"population\": 156481263.0, \"primary_energy_consumption\": null, \"renewables_consumption\": null, \"fossil_fuel_consumption\": null}, {\"country\": \"United States\", \"year\": 1952, \"population\": 158794170.0, \"primary_energy_consumption\": null, \"renewables_consumption\": null, \"fossil_fuel_consumption\": null}, {\"country\": \"United States\", \"year\": 1953, \"population\": 161168268.0, \"primary_energy_consumption\": null, \"renewables_consumption\": null, \"fossil_fuel_consumption\": null}, {\"country\": \"United States\", \"year\": 1954, \"population\": 163636251.0, \"primary_energy_consumption\": null, \"renewables_consumption\": null, \"fossil_fuel_consumption\": null}, {\"country\": \"United States\", \"year\": 1955, \"population\": 166199979.0, \"primary_energy_consumption\": null, \"renewables_consumption\": null, \"fossil_fuel_consumption\": null}, {\"country\": \"United States\", \"year\": 1956, \"population\": 168824918.0, \"primary_energy_consumption\": null, \"renewables_consumption\": null, \"fossil_fuel_consumption\": null}, {\"country\": \"United States\", \"year\": 1957, \"population\": 171499183.0, \"primary_energy_consumption\": null, \"renewables_consumption\": null, \"fossil_fuel_consumption\": null}, {\"country\": \"United States\", \"year\": 1958, \"population\": 174215249.0, \"primary_energy_consumption\": null, \"renewables_consumption\": null, \"fossil_fuel_consumption\": null}, {\"country\": \"United States\", \"year\": 1959, \"population\": 177145721.0, \"primary_energy_consumption\": null, \"renewables_consumption\": null, \"fossil_fuel_consumption\": null}, {\"country\": \"United States\", \"year\": 1960, \"population\": 180274505.0, \"primary_energy_consumption\": null, \"renewables_consumption\": null, \"fossil_fuel_consumption\": null}, {\"country\": \"United States\", \"year\": 1961, \"population\": 183489436.0, \"primary_energy_consumption\": null, \"renewables_consumption\": null, \"fossil_fuel_consumption\": null}, {\"country\": \"United States\", \"year\": 1962, \"population\": 186724236.0, \"primary_energy_consumption\": null, \"renewables_consumption\": null, \"fossil_fuel_consumption\": null}, {\"country\": \"United States\", \"year\": 1963, \"population\": 189825167.0, \"primary_energy_consumption\": null, \"renewables_consumption\": null, \"fossil_fuel_consumption\": null}, {\"country\": \"United States\", \"year\": 1964, \"population\": 192819400.0, \"primary_energy_consumption\": null, \"renewables_consumption\": null, \"fossil_fuel_consumption\": null}, {\"country\": \"United States\", \"year\": 1965, \"population\": 195653733.0, \"primary_energy_consumption\": 14439.7, \"renewables_consumption\": 594.369, \"fossil_fuel_consumption\": 13797.928}, {\"country\": \"United States\", \"year\": 1966, \"population\": 198265356.0, \"primary_energy_consumption\": 15247.364, \"renewables_consumption\": 599.324, \"fossil_fuel_consumption\": 14594.848}, {\"country\": \"United States\", \"year\": 1967, \"population\": 200699861.0, \"primary_energy_consumption\": 15778.539, \"renewables_consumption\": 675.149, \"fossil_fuel_consumption\": 15038.979}, {\"country\": \"United States\", \"year\": 1968, \"population\": 203010975.0, \"primary_energy_consumption\": 16719.387, \"renewables_consumption\": 682.344, \"fossil_fuel_consumption\": 15957.853}, {\"country\": \"United States\", \"year\": 1969, \"population\": 205299986.0, \"primary_energy_consumption\": 17583.424, \"renewables_consumption\": 761.9, \"fossil_fuel_consumption\": 16733.182}, {\"country\": \"United States\", \"year\": 1970, \"population\": 207796288.0, \"primary_energy_consumption\": 18205.84, \"renewables_consumption\": 754.883, \"fossil_fuel_consumption\": 17339.51}, {\"country\": \"United States\", \"year\": 1971, \"population\": 210426379.0, \"primary_energy_consumption\": 18589.01, \"renewables_consumption\": 808.087, \"fossil_fuel_consumption\": 17617.41}, {\"country\": \"United States\", \"year\": 1972, \"population\": 212842531.0, \"primary_energy_consumption\": 19514.082, \"renewables_consumption\": 832.564, \"fossil_fuel_consumption\": 18469.301}, {\"country\": \"United States\", \"year\": 1973, \"population\": 215006504.0, \"primary_energy_consumption\": 20339.795, \"renewables_consumption\": 835.281, \"fossil_fuel_consumption\": 19204.705}, {\"country\": \"United States\", \"year\": 1974, \"population\": 217076422.0, \"primary_energy_consumption\": 19842.607, \"renewables_consumption\": 917.332, \"fossil_fuel_consumption\": 18529.32}, {\"country\": \"United States\", \"year\": 1975, \"population\": 219129243.0, \"primary_energy_consumption\": 19319.48, \"renewables_consumption\": 912.329, \"fossil_fuel_consumption\": 17836.912}, {\"country\": \"United States\", \"year\": 1976, \"population\": 221168704.0, \"primary_energy_consumption\": 20376.508, \"renewables_consumption\": 875.577, \"fossil_fuel_consumption\": 18878.027}, {\"country\": \"United States\", \"year\": 1977, \"population\": 223259362.0, \"primary_energy_consumption\": 20895.646, \"renewables_consumption\": 700.932, \"fossil_fuel_consumption\": 19404.641}, {\"country\": \"United States\", \"year\": 1978, \"population\": 225396049.0, \"primary_energy_consumption\": 21359.291, \"renewables_consumption\": 872.478, \"fossil_fuel_consumption\": 19609.377}, {\"country\": \"United States\", \"year\": 1979, \"population\": 227575037.0, \"primary_energy_consumption\": 21584.4, \"renewables_consumption\": 874.752, \"fossil_fuel_consumption\": 19896.016}, {\"country\": \"United States\", \"year\": 1980, \"population\": 229858606.0, \"primary_energy_consumption\": 20751.957, \"renewables_consumption\": 866.64, \"fossil_fuel_consumption\": 19084.836}, {\"country\": \"United States\", \"year\": 1981, \"population\": 232201562.0, \"primary_energy_consumption\": 20138.094, \"renewables_consumption\": 825.86, \"fossil_fuel_consumption\": 18450.318}, {\"country\": \"United States\", \"year\": 1982, \"population\": 234583103.0, \"primary_energy_consumption\": 19318.141, \"renewables_consumption\": 958.986, \"fossil_fuel_consumption\": 17458.037}, {\"country\": \"United States\", \"year\": 1983, \"population\": 236986311.0, \"primary_energy_consumption\": 19250.531, \"renewables_consumption\": 1033.926, \"fossil_fuel_consumption\": 17279.002}, {\"country\": \"United States\", \"year\": 1984, \"population\": 239353915.0, \"primary_energy_consumption\": 20235.689, \"renewables_consumption\": 1021.233, \"fossil_fuel_consumption\": 18177.648}, {\"country\": \"United States\", \"year\": 1985, \"population\": 241690387.0, \"primary_energy_consumption\": 20184.246, \"renewables_consumption\": 911.503, \"fossil_fuel_consumption\": 18076.279}, {\"country\": \"United States\", \"year\": 1986, \"population\": 243953759.0, \"primary_energy_consumption\": 20371.607, \"renewables_consumption\": 945.924, \"fossil_fuel_consumption\": 18137.033}, {\"country\": \"United States\", \"year\": 1987, \"population\": 246161249.0, \"primary_energy_consumption\": 21055.266, \"renewables_consumption\": 842.842, \"fossil_fuel_consumption\": 18807.977}, {\"country\": \"United States\", \"year\": 1988, \"population\": 248393183.0, \"primary_energy_consumption\": 22014.584, \"renewables_consumption\": 766.911, \"fossil_fuel_consumption\": 19633.744}, {\"country\": \"United States\", \"year\": 1989, \"population\": 250674998.0, \"primary_energy_consumption\": 22546.824, \"renewables_consumption\": 922.421, \"fossil_fuel_consumption\": 19995.797}, {\"country\": \"United States\", \"year\": 1990, \"population\": 253373337.0, \"primary_energy_consumption\": 22609.195, \"renewables_consumption\": 1017.039, \"fossil_fuel_consumption\": 19818.104}, {\"country\": \"United States\", \"year\": 1991, \"population\": 256471373.0, \"primary_energy_consumption\": 22579.719, \"renewables_consumption\": 1016.349, \"fossil_fuel_consumption\": 19683.504}, {\"country\": \"United States\", \"year\": 1992, \"population\": 259605966.0, \"primary_energy_consumption\": 22913.111, \"renewables_consumption\": 932.235, \"fossil_fuel_consumption\": 20088.693}, {\"country\": \"United States\", \"year\": 1993, \"population\": 262633187.0, \"primary_energy_consumption\": 23396.387, \"renewables_consumption\": 1020.35, \"fossil_fuel_consumption\": 20504.279}, {\"country\": \"United States\", \"year\": 1994, \"population\": 265474761.0, \"primary_energy_consumption\": 23824.131, \"renewables_consumption\": 967.664, \"fossil_fuel_consumption\": 20897.715}, {\"country\": \"United States\", \"year\": 1995, \"population\": 268205740.0, \"primary_energy_consumption\": 24343.418, \"renewables_consumption\": 1103.453, \"fossil_fuel_consumption\": 21172.914}, {\"country\": \"United States\", \"year\": 1996, \"population\": 270860655.0, \"primary_energy_consumption\": 25165.373, \"renewables_consumption\": 1200.768, \"fossil_fuel_consumption\": 21887.312}, {\"country\": \"United States\", \"year\": 1997, \"population\": 273467966.0, \"primary_energy_consumption\": 25354.096, \"renewables_consumption\": 1233.311, \"fossil_fuel_consumption\": 22179.703}, {\"country\": \"United States\", \"year\": 1998, \"population\": 276119277.0, \"primary_energy_consumption\": 25513.363, \"renewables_consumption\": 1140.747, \"fossil_fuel_consumption\": 22303.105}, {\"country\": \"United States\", \"year\": 1999, \"population\": 278785441.0, \"primary_energy_consumption\": 25965.076, \"renewables_consumption\": 1133.522, \"fossil_fuel_consumption\": 22599.785}, {\"country\": \"United States\", \"year\": 2000, \"population\": 281484082.0, \"primary_energy_consumption\": 26546.236, \"renewables_consumption\": 1019.879, \"fossil_fuel_consumption\": 23225.385}, {\"country\": \"United States\", \"year\": 2001, \"population\": 284279583.0, \"primary_energy_consumption\": 25918.357, \"renewables_consumption\": 849.316, \"fossil_fuel_consumption\": 22750.32}, {\"country\": \"United States\", \"year\": 2002, \"population\": 287084300.0, \"primary_energy_consumption\": 26297.27, \"renewables_consumption\": 1008.915, \"fossil_fuel_consumption\": 22941.4}, {\"country\": \"United States\", \"year\": 2003, \"population\": 289908046.0, \"primary_energy_consumption\": 26383.084, \"renewables_consumption\": 1054.698, \"fossil_fuel_consumption\": 23043.094}, {\"country\": \"United States\", \"year\": 2004, \"population\": 292786200.0, \"primary_energy_consumption\": 26899.117, \"renewables_consumption\": 1057.395, \"fossil_fuel_consumption\": 23500.695}, {\"country\": \"United States\", \"year\": 2005, \"population\": 295716618.0, \"primary_energy_consumption\": 26912.564, \"renewables_consumption\": 1087.422, \"fossil_fuel_consumption\": 23515.395}, {\"country\": \"United States\", \"year\": 2006, \"population\": 298730164.0, \"primary_energy_consumption\": 26699.963, \"renewables_consumption\": 1197.585, \"fossil_fuel_consumption\": 23188.213}, {\"country\": \"United States\", \"year\": 2007, \"population\": 301844176.0, \"primary_energy_consumption\": 27066.711, \"renewables_consumption\": 1139.041, \"fossil_fuel_consumption\": 23579.912}, {\"country\": \"United States\", \"year\": 2008, \"population\": 304970280.0, \"primary_energy_consumption\": 26407.25, \"renewables_consumption\": 1271.34, \"fossil_fuel_consumption\": 22797.396}, {\"country\": \"United States\", \"year\": 2009, \"population\": 308023398.0, \"primary_energy_consumption\": 25110.527, \"renewables_consumption\": 1400.781, \"fossil_fuel_consumption\": 21400.898}, {\"country\": \"United States\", \"year\": 2010, \"population\": 311062741.0, \"primary_energy_consumption\": 25953.547, \"renewables_consumption\": 1458.154, \"fossil_fuel_consumption\": 22175.387}, {\"country\": \"United States\", \"year\": 2011, \"population\": 314105041.0, \"primary_energy_consumption\": 25729.088, \"renewables_consumption\": 1703.818, \"fossil_fuel_consumption\": 21752.76}, {\"country\": \"United States\", \"year\": 2012, \"population\": 317115301.0, \"primary_energy_consumption\": 25047.367, \"renewables_consumption\": 1658.88, \"fossil_fuel_consumption\": 21191.723}, {\"country\": \"United States\", \"year\": 2013, \"population\": 320110710.0, \"primary_energy_consumption\": 25728.629, \"renewables_consumption\": 1763.835, \"fossil_fuel_consumption\": 21720.932}, {\"country\": \"United States\", \"year\": 2014, \"population\": 323115328.0, \"primary_energy_consumption\": 25995.914, \"renewables_consumption\": 1815.237, \"fossil_fuel_consumption\": 21926.422}, {\"country\": \"United States\", \"year\": 2015, \"population\": 326126448.0, \"primary_energy_consumption\": 25747.426, \"renewables_consumption\": 1850.341, \"fossil_fuel_consumption\": 21655.984}, {\"country\": \"United States\", \"year\": 2016, \"population\": 329179362.0, \"primary_energy_consumption\": 25727.051, \"renewables_consumption\": 2045.8, \"fossil_fuel_consumption\": 21417.207}, {\"country\": \"United States\", \"year\": 2017, \"population\": 332204602.0, \"primary_energy_consumption\": 25822.156, \"renewables_consumption\": 2248.143, \"fossil_fuel_consumption\": 21313.416}, {\"country\": \"United States\", \"year\": 2018, \"population\": 335056439.0, \"primary_energy_consumption\": 26768.988, \"renewables_consumption\": 2300.448, \"fossil_fuel_consumption\": 22212.854}, {\"country\": \"United States\", \"year\": 2019, \"population\": 337790020.0, \"primary_energy_consumption\": 26578.494, \"renewables_consumption\": 2369.579, \"fossil_fuel_consumption\": 21948.143}, {\"country\": \"United States\", \"year\": 2020, \"population\": 339436106.0, \"primary_energy_consumption\": 24630.395, \"renewables_consumption\": 2477.656, \"fossil_fuel_consumption\": 19944.744}, {\"country\": \"United States\", \"year\": 2021, \"population\": 340161392.0, \"primary_energy_consumption\": 25956.828, \"renewables_consumption\": 2610.055, \"fossil_fuel_consumption\": 21170.129}, {\"country\": \"United States\", \"year\": 2022, \"population\": 341533996.0, \"primary_energy_consumption\": 26512.51, \"renewables_consumption\": 2865.251, \"fossil_fuel_consumption\": 21487.639}, {\"country\": \"United States\", \"year\": 2023, \"population\": 343477286.0, \"primary_energy_consumption\": 26216.545, \"renewables_consumption\": 2919.287, \"fossil_fuel_consumption\": 21127.553}, {\"country\": \"United States\", \"year\": 2024, \"population\": 345426519.0, \"primary_energy_consumption\": 26528.611, \"renewables_consumption\": 3175.228, \"fossil_fuel_consumption\": 21166.57}]}}, {\"mode\": \"vega-lite\"});\n",
       "</script>"
      ],
      "text/plain": [
       "alt.LayerChart(...)"
      ]
     },
     "metadata": {},
     "output_type": "display_data"
    }
   ],
   "source": [
    "# Linechart of US renewable energy consumption vs fossil fuel consumption over time\n",
    "\n",
    "# clean data to be only columns that we care about\n",
    "clean_data = data[['country', 'year', 'population', 'primary_energy_consumption', 'renewables_consumption', 'fossil_fuel_consumption']]\n",
    "\n",
    "import altair as alt\n",
    "us_data = clean_data[clean_data['country'] == 'United States']\n",
    "\n",
    "year_min = 1965\n",
    "print(year_min)\n",
    "year_max = int(us_data[\"year\"].max())\n",
    "print(year_max)\n",
    "\n",
    "\n",
    "renew_line = alt.Chart(us_data).mark_line(color='green').encode(\n",
    "    alt.X('year', title='Year', scale=alt.Scale(domain=[year_min, year_max]), axis=alt.Axis(format=\"d\")),\n",
    "    alt.Y('renewables_consumption', title='Fuel Consumption in Terawatt-Hours'),\n",
    "    tooltip=['year', 'renewables_consumption'],\n",
    "    \n",
    ")\n",
    "\n",
    "fossil_line = alt.Chart(us_data).mark_line(color='brown').encode(\n",
    "    alt.X('year', title='Year', scale=alt.Scale(domain=[year_min, year_max]), axis=alt.Axis(format=\"d\")),\n",
    "    alt.Y('fossil_fuel_consumption', title='Fuel Consumption in Terawatt-Hours'),\n",
    "    tooltip=['year', 'fossil_fuel_consumption'],\n",
    ")\n",
    "\n",
    "us_linechart = renew_line + fossil_line\n",
    "\n",
    "us_linechart = us_linechart.properties(\n",
    "    title='US Renewable Energy Consumption vs Fossil Fuel Consumption Over Time',\n",
    "    width = 700, height = 700)\n",
    "\n",
    "us_linechart.show()\n",
    "\n",
    "# how to add legend?"
   ]
  },
  {
   "cell_type": "markdown",
   "id": "e2250d79",
   "metadata": {},
   "source": [
    "## GDP vs renewable energy adoption"
   ]
  },
  {
   "cell_type": "code",
   "execution_count": 10,
   "id": "5981df1c",
   "metadata": {},
   "outputs": [
    {
     "data": {
      "application/vnd.plotly.v1+json": {
       "config": {
        "plotlyServerURL": "https://plot.ly"
       },
       "data": [
        {
         "customdata": [
          [
           734.248,
           "Africa"
          ],
          [
           1110.143,
           "Africa"
          ],
          [
           266.764,
           "Africa"
          ],
          [
           1346.169,
           "Africa"
          ]
         ],
         "hovertemplate": "<b>%{hovertext}</b><br><br>Region=%{customdata[1]}<br>GDP per Capita (USD)=%{x:,.0f}<br>Renewable Energy Share (%)=%{y:.1f}<br>Total Energy Consumption (TWh)=%{customdata[0]:.1f}<extra></extra>",
         "hovertext": [
          "Algeria",
          "Egypt",
          "Morocco",
          "South Africa"
         ],
         "legendgroup": "Africa",
         "marker": {
          "color": "rgb(102,194,165)",
          "line": {
           "color": "white",
           "width": 0.5
          },
          "opacity": 0.5,
          "size": [
           734.248,
           1110.143,
           266.764,
           1346.169
          ],
          "sizemode": "area",
          "sizeref": 17.806596799999998,
          "symbol": "circle"
         },
         "mode": "markers",
         "name": "Africa",
         "orientation": "v",
         "showlegend": true,
         "type": "scatter",
         "x": [
          13101.47059642166,
          12967.953141282476,
          8348.867455693711,
          11599.521377479892
         ],
         "xaxis": "x",
         "y": [
          0.228,
          5.687,
          6.616,
          3.648
         ],
         "yaxis": "y"
        },
        {
         "customdata": [
          [
           1001.241,
           "South America"
          ],
          [
           3731.718,
           "South America"
          ],
          [
           503.505,
           "South America"
          ],
          [
           627.227,
           "South America"
          ],
          [
           222.718,
           "South America"
          ],
          [
           338.069,
           "South America"
          ],
          [
           646.047,
           "South America"
          ]
         ],
         "hovertemplate": "<b>%{hovertext}</b><br><br>Region=%{customdata[1]}<br>GDP per Capita (USD)=%{x:,.0f}<br>Renewable Energy Share (%)=%{y:.1f}<br>Total Energy Consumption (TWh)=%{customdata[0]:.1f}<extra></extra>",
         "hovertext": [
          "Argentina",
          "Brazil",
          "Chile",
          "Colombia",
          "Ecuador",
          "Peru",
          "Venezuela"
         ],
         "legendgroup": "South America",
         "marker": {
          "color": "rgb(252,141,98)",
          "line": {
           "color": "white",
           "width": 0.5
          },
          "opacity": 0.5,
          "size": [
           1001.241,
           3731.718,
           503.505,
           627.227,
           222.718,
           338.069,
           646.047
          ],
          "sizemode": "area",
          "sizeref": 17.806596799999998,
          "symbol": "circle"
         },
         "mode": "markers",
         "name": "South America",
         "orientation": "v",
         "showlegend": true,
         "type": "scatter",
         "x": [
          18827.449454506408,
          15156.047209490453,
          22929.395340578194,
          14355.378297735406,
          9819.921656687438,
          10206.833422807047,
          5305.4360835078605
         ],
         "xaxis": "x",
         "y": [
          12.01,
          47.66,
          26.079,
          28.384,
          28.426,
          26.155,
          26.484
         ],
         "yaxis": "y"
        },
        {
         "customdata": [
          [
           1660.79,
           "Oceania"
          ],
          [
           232.71,
           "Oceania"
          ]
         ],
         "hovertemplate": "<b>%{hovertext}</b><br><br>Region=%{customdata[1]}<br>GDP per Capita (USD)=%{x:,.0f}<br>Renewable Energy Share (%)=%{y:.1f}<br>Total Energy Consumption (TWh)=%{customdata[0]:.1f}<extra></extra>",
         "hovertext": [
          "Australia",
          "New Zealand"
         ],
         "legendgroup": "Oceania",
         "marker": {
          "color": "rgb(141,160,203)",
          "line": {
           "color": "white",
           "width": 0.5
          },
          "opacity": 0.5,
          "size": [
           1660.79,
           232.71
          ],
          "sizemode": "area",
          "sizeref": 17.806596799999998,
          "symbol": "circle"
         },
         "mode": "markers",
         "name": "Oceania",
         "orientation": "v",
         "showlegend": true,
         "type": "scatter",
         "x": [
          51305.48975572584,
          39091.05074049824
         ],
         "xaxis": "x",
         "y": [
          13.247,
          43.295
         ],
         "yaxis": "y"
        },
        {
         "customdata": [
          [
           381.823,
           "Europe"
          ],
          [
           694.453,
           "Europe"
          ],
          [
           229.39,
           "Europe"
          ],
          [
           93.167,
           "Europe"
          ],
          [
           31.674,
           "Europe"
          ],
          [
           448.738,
           "Europe"
          ],
          [
           194.229,
           "Europe"
          ],
          [
           63.306,
           "Europe"
          ],
          [
           320.232,
           "Europe"
          ],
          [
           2306.192,
           "Europe"
          ],
          [
           3455.45,
           "Europe"
          ],
          [
           314.334,
           "Europe"
          ],
          [
           267.047,
           "Europe"
          ],
          [
           63.724,
           "Europe"
          ],
          [
           186.452,
           "Europe"
          ],
          [
           1755.465,
           "Europe"
          ],
          [
           38.513,
           "Europe"
          ],
          [
           65.066,
           "Europe"
          ],
          [
           38.822,
           "Europe"
          ],
          [
           954.098,
           "Europe"
          ],
          [
           30.734,
           "Europe"
          ],
          [
           533.568,
           "Europe"
          ],
          [
           1186.868,
           "Europe"
          ],
          [
           262.58,
           "Europe"
          ],
          [
           360.166,
           "Europe"
          ],
          [
           179.893,
           "Europe"
          ],
          [
           70.602,
           "Europe"
          ],
          [
           1592.166,
           "Europe"
          ],
          [
           621.681,
           "Europe"
          ],
          [
           297.485,
           "Europe"
          ],
          [
           2009.944,
           "Europe"
          ]
         ],
         "hovertemplate": "<b>%{hovertext}</b><br><br>Region=%{customdata[1]}<br>GDP per Capita (USD)=%{x:,.0f}<br>Renewable Energy Share (%)=%{y:.1f}<br>Total Energy Consumption (TWh)=%{customdata[0]:.1f}<extra></extra>",
         "hovertext": [
          "Austria",
          "Belgium",
          "Bulgaria",
          "Croatia",
          "Cyprus",
          "Czechia",
          "Denmark",
          "Estonia",
          "Finland",
          "France",
          "Germany",
          "Greece",
          "Hungary",
          "Iceland",
          "Ireland",
          "Italy",
          "Latvia",
          "Lithuania",
          "Luxembourg",
          "Netherlands",
          "North Macedonia",
          "Norway",
          "Poland",
          "Portugal",
          "Romania",
          "Slovakia",
          "Slovenia",
          "Spain",
          "Sweden",
          "Switzerland",
          "United Kingdom"
         ],
         "legendgroup": "Europe",
         "marker": {
          "color": "rgb(231,138,195)",
          "line": {
           "color": "white",
           "width": 0.5
          },
          "opacity": 0.5,
          "size": [
           381.823,
           694.453,
           229.39,
           93.167,
           31.674,
           448.738,
           194.229,
           63.306,
           320.232,
           2306.192,
           3455.45,
           314.334,
           267.047,
           63.724,
           186.452,
           1755.465,
           38.513,
           65.066,
           38.822,
           954.098,
           30.734,
           533.568,
           1186.868,
           262.58,
           360.166,
           179.893,
           70.602,
           1592.166,
           621.681,
           297.485,
           2009.944
          ],
          "sizemode": "area",
          "sizeref": 17.806596799999998,
          "symbol": "circle"
         },
         "mode": "markers",
         "name": "Europe",
         "orientation": "v",
         "showlegend": true,
         "type": "scatter",
         "x": [
          43996.860748802515,
          42062.23523713212,
          20274.519425293704,
          26179.923882028816,
          25730.032502981994,
          32133.551811650315,
          50726.20957145079,
          29628.689444297124,
          40607.74388526722,
          40308.91615175105,
          46495.30896036942,
          25344.010129433787,
          29468.979329032816,
          42120.99212772335,
          60350.875170598,
          35827.62651124075,
          27245.10597251698,
          30109.375994365382,
          55304.12281655127,
          49128.18859890439,
          15634.342672193614,
          88391.10821545341,
          32069.797605664964,
          28387.449729529435,
          26334.26588474213,
          27472.3992234812,
          32803.456849144095,
          33978.599383265224,
          47125.100243542445,
          63623.38592340785,
          38358.150654098405
         ],
         "xaxis": "x",
         "y": [
          35.134,
          10.436,
          12.026,
          25.053,
          7.765,
          7.496,
          40.792,
          13.241,
          34.897,
          13.726,
          20.329,
          18.783,
          8.957,
          82.075,
          19.42,
          15.951,
          26.646,
          14.382,
          11.035,
          14.417,
          13.053,
          69.648,
          9.37,
          28.753,
          17.783,
          9.672,
          15.912,
          20.877,
          52.434,
          31.096,
          19.072
         ],
         "yaxis": "y"
        },
        {
         "customdata": [
          [
           210.286,
           "Middle East"
          ],
          [
           3490.12,
           "Middle East"
          ],
          [
           680.004,
           "Middle East"
          ],
          [
           307.838,
           "Middle East"
          ],
          [
           468.641,
           "Middle East"
          ],
          [
           424.561,
           "Middle East"
          ],
          [
           565.004,
           "Middle East"
          ],
          [
           3150.054,
           "Middle East"
          ],
          [
           1969.05,
           "Middle East"
          ],
          [
           1352.948,
           "Middle East"
          ]
         ],
         "hovertemplate": "<b>%{hovertext}</b><br><br>Region=%{customdata[1]}<br>GDP per Capita (USD)=%{x:,.0f}<br>Renewable Energy Share (%)=%{y:.1f}<br>Total Energy Consumption (TWh)=%{customdata[0]:.1f}<extra></extra>",
         "hovertext": [
          "Azerbaijan",
          "Iran",
          "Iraq",
          "Israel",
          "Kuwait",
          "Oman",
          "Qatar",
          "Saudi Arabia",
          "Turkey",
          "United Arab Emirates"
         ],
         "legendgroup": "Middle East",
         "marker": {
          "color": "rgb(166,216,84)",
          "line": {
           "color": "white",
           "width": 0.5
          },
          "opacity": 0.5,
          "size": [
           210.286,
           3490.12,
           680.004,
           307.838,
           468.641,
           424.561,
           565.004,
           3150.054,
           1969.05,
           1352.948
          ],
          "sizemode": "area",
          "sizeref": 17.806596799999998,
          "symbol": "circle"
         },
         "mode": "markers",
         "name": "Middle East",
         "orientation": "v",
         "showlegend": true,
         "type": "scatter",
         "x": [
          17034.11273075677,
          17561.834383447997,
          11972.616482813564,
          36989.90244152153,
          47709.51220958774,
          37494.35574087154,
          131992.66780642778,
          56685.91192529947,
          27406.84229703638,
          76127.6123925787
         ],
         "xaxis": "x",
         "y": [
          2.188,
          1.112,
          1.095,
          5.387,
          0.093,
          1.136,
          0.192,
          0.157,
          18.036,
          1.411
         ],
         "yaxis": "y"
        },
        {
         "customdata": [
          [
           512.174,
           "Asia"
          ],
          [
           44516.492,
           "Asia"
          ],
          [
           217.409,
           "Asia"
          ],
          [
           10059.478,
           "Asia"
          ],
          [
           2749.242,
           "Asia"
          ],
          [
           4996.771,
           "Asia"
          ],
          [
           819.283,
           "Asia"
          ],
          [
           1355.509,
           "Asia"
          ],
          [
           979.101,
           "Asia"
          ],
          [
           570.979,
           "Asia"
          ],
          [
           895.63,
           "Asia"
          ],
          [
           3619.57,
           "Asia"
          ],
          [
           97.407,
           "Asia"
          ],
          [
           1316.818,
           "Asia"
          ],
          [
           1387.88,
           "Asia"
          ],
          [
           471.771,
           "Asia"
          ],
          [
           592.522,
           "Asia"
          ],
          [
           1293.495,
           "Asia"
          ]
         ],
         "hovertemplate": "<b>%{hovertext}</b><br><br>Region=%{customdata[1]}<br>GDP per Capita (USD)=%{x:,.0f}<br>Renewable Energy Share (%)=%{y:.1f}<br>Total Energy Consumption (TWh)=%{customdata[0]:.1f}<extra></extra>",
         "hovertext": [
          "Bangladesh",
          "China",
          "Hong Kong",
          "India",
          "Indonesia",
          "Japan",
          "Kazakhstan",
          "Malaysia",
          "Pakistan",
          "Philippines",
          "Singapore",
          "South Korea",
          "Sri Lanka",
          "Taiwan",
          "Thailand",
          "Turkmenistan",
          "Uzbekistan",
          "Vietnam"
         ],
         "legendgroup": "Asia",
         "marker": {
          "color": "rgb(255,217,47)",
          "line": {
           "color": "white",
           "width": 0.5
          },
          "opacity": 0.5,
          "size": [
           512.174,
           44516.492,
           217.409,
           10059.478,
           2749.242,
           4996.771,
           819.283,
           1355.509,
           979.101,
           570.979,
           895.63,
           3619.57,
           97.407,
           1316.818,
           1387.88,
           471.771,
           592.522,
           1293.495
          ],
          "sizemode": "area",
          "sizeref": 17.806596799999998,
          "symbol": "circle"
         },
         "mode": "markers",
         "name": "Asia",
         "orientation": "v",
         "showlegend": true,
         "type": "scatter",
         "x": [
          5066.238077530883,
          18921.137308919868,
          47776.209765519314,
          7349.570768271165,
          12552.7649822242,
          38196.71140302656,
          25138.253159127107,
          25293.93087167494,
          5411.701255872082,
          8904.640145850599,
          81737.12885602105,
          41279.57762882433,
          11156.10146900932,
          53282.30855996001,
          15670.724869089157,
          13485.610358959506,
          11264.588364073512,
          8364.75498184672
         ],
         "xaxis": "x",
         "y": [
          0.693,
          15.218,
          0.927,
          9.421,
          10.208,
          11.154,
          3.995,
          7.833,
          10.571,
          13.032,
          0.521,
          4.333,
          23.449,
          4.235,
          7.248,
          0.005,
          2.387,
          25.312
         ],
         "yaxis": "y"
        },
        {
         "customdata": [
          [
           303.514,
           "Other"
          ],
          [
           8626.76,
           "Other"
          ],
          [
           618.781,
           "Other"
          ]
         ],
         "hovertemplate": "<b>%{hovertext}</b><br><br>Region=%{customdata[1]}<br>GDP per Capita (USD)=%{x:,.0f}<br>Renewable Energy Share (%)=%{y:.1f}<br>Total Energy Consumption (TWh)=%{customdata[0]:.1f}<extra></extra>",
         "hovertext": [
          "Belarus",
          "Russia",
          "Ukraine"
         ],
         "legendgroup": "Other",
         "marker": {
          "color": "rgb(229,196,148)",
          "line": {
           "color": "white",
           "width": 0.5
          },
          "opacity": 0.5,
          "size": [
           303.514,
           8626.76,
           618.781
          ],
          "sizemode": "area",
          "sizeref": 17.806596799999998,
          "symbol": "circle"
         },
         "mode": "markers",
         "name": "Other",
         "orientation": "v",
         "showlegend": true,
         "type": "scatter",
         "x": [
          19161.68864789675,
          25631.57590194681,
          7531.701169222902
         ],
         "xaxis": "x",
         "y": [
          1.147,
          5.92,
          7.503
         ],
         "yaxis": "y"
        },
        {
         "customdata": [
          [
           3964.521,
           "North America"
          ],
          [
           2296.863,
           "North America"
          ],
          [
           173.056,
           "North America"
          ],
          [
           26512.51,
           "North America"
          ]
         ],
         "hovertemplate": "<b>%{hovertext}</b><br><br>Region=%{customdata[1]}<br>GDP per Capita (USD)=%{x:,.0f}<br>Renewable Energy Share (%)=%{y:.1f}<br>Total Energy Consumption (TWh)=%{customdata[0]:.1f}<extra></extra>",
         "hovertext": [
          "Canada",
          "Mexico",
          "Trinidad and Tobago",
          "United States"
         ],
         "legendgroup": "North America",
         "marker": {
          "color": "rgb(179,179,179)",
          "line": {
           "color": "white",
           "width": 0.5
          },
          "opacity": 0.5,
          "size": [
           3964.521,
           2296.863,
           173.056,
           26512.51
          ],
          "sizemode": "area",
          "sizeref": 17.806596799999998,
          "symbol": "circle"
         },
         "mode": "markers",
         "name": "North America",
         "orientation": "v",
         "showlegend": true,
         "type": "scatter",
         "x": [
          45369.4164333728,
          15810.505898801915,
          25078.004166143,
          57075.34440095972
         ],
         "xaxis": "x",
         "y": [
          29.497,
          9.243,
          0.009,
          10.875
         ],
         "yaxis": "y"
        }
       ],
       "layout": {
        "font": {
         "size": 12
        },
        "height": 700,
        "hovermode": "closest",
        "legend": {
         "bordercolor": "lightgray",
         "borderwidth": 1,
         "font": {
          "size": 11
         },
         "itemsizing": "constant",
         "title": {
          "font": {
           "size": 13
          },
          "text": "Region"
         },
         "tracegroupgap": 0
        },
        "plot_bgcolor": "white",
        "template": {
         "data": {
          "bar": [
           {
            "error_x": {
             "color": "#2a3f5f"
            },
            "error_y": {
             "color": "#2a3f5f"
            },
            "marker": {
             "line": {
              "color": "#E5ECF6",
              "width": 0.5
             },
             "pattern": {
              "fillmode": "overlay",
              "size": 10,
              "solidity": 0.2
             }
            },
            "type": "bar"
           }
          ],
          "barpolar": [
           {
            "marker": {
             "line": {
              "color": "#E5ECF6",
              "width": 0.5
             },
             "pattern": {
              "fillmode": "overlay",
              "size": 10,
              "solidity": 0.2
             }
            },
            "type": "barpolar"
           }
          ],
          "carpet": [
           {
            "aaxis": {
             "endlinecolor": "#2a3f5f",
             "gridcolor": "white",
             "linecolor": "white",
             "minorgridcolor": "white",
             "startlinecolor": "#2a3f5f"
            },
            "baxis": {
             "endlinecolor": "#2a3f5f",
             "gridcolor": "white",
             "linecolor": "white",
             "minorgridcolor": "white",
             "startlinecolor": "#2a3f5f"
            },
            "type": "carpet"
           }
          ],
          "choropleth": [
           {
            "colorbar": {
             "outlinewidth": 0,
             "ticks": ""
            },
            "type": "choropleth"
           }
          ],
          "contour": [
           {
            "colorbar": {
             "outlinewidth": 0,
             "ticks": ""
            },
            "colorscale": [
             [
              0,
              "#0d0887"
             ],
             [
              0.1111111111111111,
              "#46039f"
             ],
             [
              0.2222222222222222,
              "#7201a8"
             ],
             [
              0.3333333333333333,
              "#9c179e"
             ],
             [
              0.4444444444444444,
              "#bd3786"
             ],
             [
              0.5555555555555556,
              "#d8576b"
             ],
             [
              0.6666666666666666,
              "#ed7953"
             ],
             [
              0.7777777777777778,
              "#fb9f3a"
             ],
             [
              0.8888888888888888,
              "#fdca26"
             ],
             [
              1,
              "#f0f921"
             ]
            ],
            "type": "contour"
           }
          ],
          "contourcarpet": [
           {
            "colorbar": {
             "outlinewidth": 0,
             "ticks": ""
            },
            "type": "contourcarpet"
           }
          ],
          "heatmap": [
           {
            "colorbar": {
             "outlinewidth": 0,
             "ticks": ""
            },
            "colorscale": [
             [
              0,
              "#0d0887"
             ],
             [
              0.1111111111111111,
              "#46039f"
             ],
             [
              0.2222222222222222,
              "#7201a8"
             ],
             [
              0.3333333333333333,
              "#9c179e"
             ],
             [
              0.4444444444444444,
              "#bd3786"
             ],
             [
              0.5555555555555556,
              "#d8576b"
             ],
             [
              0.6666666666666666,
              "#ed7953"
             ],
             [
              0.7777777777777778,
              "#fb9f3a"
             ],
             [
              0.8888888888888888,
              "#fdca26"
             ],
             [
              1,
              "#f0f921"
             ]
            ],
            "type": "heatmap"
           }
          ],
          "heatmapgl": [
           {
            "colorbar": {
             "outlinewidth": 0,
             "ticks": ""
            },
            "colorscale": [
             [
              0,
              "#0d0887"
             ],
             [
              0.1111111111111111,
              "#46039f"
             ],
             [
              0.2222222222222222,
              "#7201a8"
             ],
             [
              0.3333333333333333,
              "#9c179e"
             ],
             [
              0.4444444444444444,
              "#bd3786"
             ],
             [
              0.5555555555555556,
              "#d8576b"
             ],
             [
              0.6666666666666666,
              "#ed7953"
             ],
             [
              0.7777777777777778,
              "#fb9f3a"
             ],
             [
              0.8888888888888888,
              "#fdca26"
             ],
             [
              1,
              "#f0f921"
             ]
            ],
            "type": "heatmapgl"
           }
          ],
          "histogram": [
           {
            "marker": {
             "pattern": {
              "fillmode": "overlay",
              "size": 10,
              "solidity": 0.2
             }
            },
            "type": "histogram"
           }
          ],
          "histogram2d": [
           {
            "colorbar": {
             "outlinewidth": 0,
             "ticks": ""
            },
            "colorscale": [
             [
              0,
              "#0d0887"
             ],
             [
              0.1111111111111111,
              "#46039f"
             ],
             [
              0.2222222222222222,
              "#7201a8"
             ],
             [
              0.3333333333333333,
              "#9c179e"
             ],
             [
              0.4444444444444444,
              "#bd3786"
             ],
             [
              0.5555555555555556,
              "#d8576b"
             ],
             [
              0.6666666666666666,
              "#ed7953"
             ],
             [
              0.7777777777777778,
              "#fb9f3a"
             ],
             [
              0.8888888888888888,
              "#fdca26"
             ],
             [
              1,
              "#f0f921"
             ]
            ],
            "type": "histogram2d"
           }
          ],
          "histogram2dcontour": [
           {
            "colorbar": {
             "outlinewidth": 0,
             "ticks": ""
            },
            "colorscale": [
             [
              0,
              "#0d0887"
             ],
             [
              0.1111111111111111,
              "#46039f"
             ],
             [
              0.2222222222222222,
              "#7201a8"
             ],
             [
              0.3333333333333333,
              "#9c179e"
             ],
             [
              0.4444444444444444,
              "#bd3786"
             ],
             [
              0.5555555555555556,
              "#d8576b"
             ],
             [
              0.6666666666666666,
              "#ed7953"
             ],
             [
              0.7777777777777778,
              "#fb9f3a"
             ],
             [
              0.8888888888888888,
              "#fdca26"
             ],
             [
              1,
              "#f0f921"
             ]
            ],
            "type": "histogram2dcontour"
           }
          ],
          "mesh3d": [
           {
            "colorbar": {
             "outlinewidth": 0,
             "ticks": ""
            },
            "type": "mesh3d"
           }
          ],
          "parcoords": [
           {
            "line": {
             "colorbar": {
              "outlinewidth": 0,
              "ticks": ""
             }
            },
            "type": "parcoords"
           }
          ],
          "pie": [
           {
            "automargin": true,
            "type": "pie"
           }
          ],
          "scatter": [
           {
            "fillpattern": {
             "fillmode": "overlay",
             "size": 10,
             "solidity": 0.2
            },
            "type": "scatter"
           }
          ],
          "scatter3d": [
           {
            "line": {
             "colorbar": {
              "outlinewidth": 0,
              "ticks": ""
             }
            },
            "marker": {
             "colorbar": {
              "outlinewidth": 0,
              "ticks": ""
             }
            },
            "type": "scatter3d"
           }
          ],
          "scattercarpet": [
           {
            "marker": {
             "colorbar": {
              "outlinewidth": 0,
              "ticks": ""
             }
            },
            "type": "scattercarpet"
           }
          ],
          "scattergeo": [
           {
            "marker": {
             "colorbar": {
              "outlinewidth": 0,
              "ticks": ""
             }
            },
            "type": "scattergeo"
           }
          ],
          "scattergl": [
           {
            "marker": {
             "colorbar": {
              "outlinewidth": 0,
              "ticks": ""
             }
            },
            "type": "scattergl"
           }
          ],
          "scattermapbox": [
           {
            "marker": {
             "colorbar": {
              "outlinewidth": 0,
              "ticks": ""
             }
            },
            "type": "scattermapbox"
           }
          ],
          "scatterpolar": [
           {
            "marker": {
             "colorbar": {
              "outlinewidth": 0,
              "ticks": ""
             }
            },
            "type": "scatterpolar"
           }
          ],
          "scatterpolargl": [
           {
            "marker": {
             "colorbar": {
              "outlinewidth": 0,
              "ticks": ""
             }
            },
            "type": "scatterpolargl"
           }
          ],
          "scatterternary": [
           {
            "marker": {
             "colorbar": {
              "outlinewidth": 0,
              "ticks": ""
             }
            },
            "type": "scatterternary"
           }
          ],
          "surface": [
           {
            "colorbar": {
             "outlinewidth": 0,
             "ticks": ""
            },
            "colorscale": [
             [
              0,
              "#0d0887"
             ],
             [
              0.1111111111111111,
              "#46039f"
             ],
             [
              0.2222222222222222,
              "#7201a8"
             ],
             [
              0.3333333333333333,
              "#9c179e"
             ],
             [
              0.4444444444444444,
              "#bd3786"
             ],
             [
              0.5555555555555556,
              "#d8576b"
             ],
             [
              0.6666666666666666,
              "#ed7953"
             ],
             [
              0.7777777777777778,
              "#fb9f3a"
             ],
             [
              0.8888888888888888,
              "#fdca26"
             ],
             [
              1,
              "#f0f921"
             ]
            ],
            "type": "surface"
           }
          ],
          "table": [
           {
            "cells": {
             "fill": {
              "color": "#EBF0F8"
             },
             "line": {
              "color": "white"
             }
            },
            "header": {
             "fill": {
              "color": "#C8D4E3"
             },
             "line": {
              "color": "white"
             }
            },
            "type": "table"
           }
          ]
         },
         "layout": {
          "annotationdefaults": {
           "arrowcolor": "#2a3f5f",
           "arrowhead": 0,
           "arrowwidth": 1
          },
          "autotypenumbers": "strict",
          "coloraxis": {
           "colorbar": {
            "outlinewidth": 0,
            "ticks": ""
           }
          },
          "colorscale": {
           "diverging": [
            [
             0,
             "#8e0152"
            ],
            [
             0.1,
             "#c51b7d"
            ],
            [
             0.2,
             "#de77ae"
            ],
            [
             0.3,
             "#f1b6da"
            ],
            [
             0.4,
             "#fde0ef"
            ],
            [
             0.5,
             "#f7f7f7"
            ],
            [
             0.6,
             "#e6f5d0"
            ],
            [
             0.7,
             "#b8e186"
            ],
            [
             0.8,
             "#7fbc41"
            ],
            [
             0.9,
             "#4d9221"
            ],
            [
             1,
             "#276419"
            ]
           ],
           "sequential": [
            [
             0,
             "#0d0887"
            ],
            [
             0.1111111111111111,
             "#46039f"
            ],
            [
             0.2222222222222222,
             "#7201a8"
            ],
            [
             0.3333333333333333,
             "#9c179e"
            ],
            [
             0.4444444444444444,
             "#bd3786"
            ],
            [
             0.5555555555555556,
             "#d8576b"
            ],
            [
             0.6666666666666666,
             "#ed7953"
            ],
            [
             0.7777777777777778,
             "#fb9f3a"
            ],
            [
             0.8888888888888888,
             "#fdca26"
            ],
            [
             1,
             "#f0f921"
            ]
           ],
           "sequentialminus": [
            [
             0,
             "#0d0887"
            ],
            [
             0.1111111111111111,
             "#46039f"
            ],
            [
             0.2222222222222222,
             "#7201a8"
            ],
            [
             0.3333333333333333,
             "#9c179e"
            ],
            [
             0.4444444444444444,
             "#bd3786"
            ],
            [
             0.5555555555555556,
             "#d8576b"
            ],
            [
             0.6666666666666666,
             "#ed7953"
            ],
            [
             0.7777777777777778,
             "#fb9f3a"
            ],
            [
             0.8888888888888888,
             "#fdca26"
            ],
            [
             1,
             "#f0f921"
            ]
           ]
          },
          "colorway": [
           "#636efa",
           "#EF553B",
           "#00cc96",
           "#ab63fa",
           "#FFA15A",
           "#19d3f3",
           "#FF6692",
           "#B6E880",
           "#FF97FF",
           "#FECB52"
          ],
          "font": {
           "color": "#2a3f5f"
          },
          "geo": {
           "bgcolor": "white",
           "lakecolor": "white",
           "landcolor": "#E5ECF6",
           "showlakes": true,
           "showland": true,
           "subunitcolor": "white"
          },
          "hoverlabel": {
           "align": "left"
          },
          "hovermode": "closest",
          "mapbox": {
           "style": "light"
          },
          "paper_bgcolor": "white",
          "plot_bgcolor": "#E5ECF6",
          "polar": {
           "angularaxis": {
            "gridcolor": "white",
            "linecolor": "white",
            "ticks": ""
           },
           "bgcolor": "#E5ECF6",
           "radialaxis": {
            "gridcolor": "white",
            "linecolor": "white",
            "ticks": ""
           }
          },
          "scene": {
           "xaxis": {
            "backgroundcolor": "#E5ECF6",
            "gridcolor": "white",
            "gridwidth": 2,
            "linecolor": "white",
            "showbackground": true,
            "ticks": "",
            "zerolinecolor": "white"
           },
           "yaxis": {
            "backgroundcolor": "#E5ECF6",
            "gridcolor": "white",
            "gridwidth": 2,
            "linecolor": "white",
            "showbackground": true,
            "ticks": "",
            "zerolinecolor": "white"
           },
           "zaxis": {
            "backgroundcolor": "#E5ECF6",
            "gridcolor": "white",
            "gridwidth": 2,
            "linecolor": "white",
            "showbackground": true,
            "ticks": "",
            "zerolinecolor": "white"
           }
          },
          "shapedefaults": {
           "line": {
            "color": "#2a3f5f"
           }
          },
          "ternary": {
           "aaxis": {
            "gridcolor": "white",
            "linecolor": "white",
            "ticks": ""
           },
           "baxis": {
            "gridcolor": "white",
            "linecolor": "white",
            "ticks": ""
           },
           "bgcolor": "#E5ECF6",
           "caxis": {
            "gridcolor": "white",
            "linecolor": "white",
            "ticks": ""
           }
          },
          "title": {
           "x": 0.05
          },
          "xaxis": {
           "automargin": true,
           "gridcolor": "white",
           "linecolor": "white",
           "ticks": "",
           "title": {
            "standoff": 15
           },
           "zerolinecolor": "white",
           "zerolinewidth": 2
          },
          "yaxis": {
           "automargin": true,
           "gridcolor": "white",
           "linecolor": "white",
           "ticks": "",
           "title": {
            "standoff": 15
           },
           "zerolinecolor": "white",
           "zerolinewidth": 2
          }
         }
        },
        "title": {
         "text": "GDP vs Renewable Energy Adoption based on Country (2022)"
        },
        "width": 1200,
        "xaxis": {
         "anchor": "y",
         "domain": [
          0,
          1
         ],
         "gridcolor": "#D3D3D3",
         "title": {
          "font": {
           "size": 16
          },
          "text": "GDP per Capita (USD)"
         },
         "type": "log"
        },
        "yaxis": {
         "anchor": "x",
         "domain": [
          0,
          1
         ],
         "gridcolor": "#D3D3D3",
         "range": [
          -5,
          105
         ],
         "title": {
          "font": {
           "size": 14
          },
          "text": "Renewable Energy Share (%)"
         }
        }
       }
      },
      "text/html": [
       "<div>                            <div id=\"bb86df42-d7fa-4bf0-8d25-8beab8bde192\" class=\"plotly-graph-div\" style=\"height:700px; width:1200px;\"></div>            <script type=\"text/javascript\">                require([\"plotly\"], function(Plotly) {                    window.PLOTLYENV=window.PLOTLYENV || {};                                    if (document.getElementById(\"bb86df42-d7fa-4bf0-8d25-8beab8bde192\")) {                    Plotly.newPlot(                        \"bb86df42-d7fa-4bf0-8d25-8beab8bde192\",                        [{\"customdata\":[[734.248,\"Africa\"],[1110.143,\"Africa\"],[266.764,\"Africa\"],[1346.169,\"Africa\"]],\"hovertemplate\":\"<b>%{hovertext}</b><br><br>Region=%{customdata[1]}<br>GDP per Capita (USD)=%{x:,.0f}<br>Renewable Energy Share (%)=%{y:.1f}<br>Total Energy Consumption (TWh)=%{customdata[0]:.1f}<extra></extra>\",\"hovertext\":[\"Algeria\",\"Egypt\",\"Morocco\",\"South Africa\"],\"legendgroup\":\"Africa\",\"marker\":{\"color\":\"rgb(102,194,165)\",\"size\":[734.248,1110.143,266.764,1346.169],\"sizemode\":\"area\",\"sizeref\":17.806596799999998,\"symbol\":\"circle\",\"line\":{\"color\":\"white\",\"width\":0.5},\"opacity\":0.5},\"mode\":\"markers\",\"name\":\"Africa\",\"orientation\":\"v\",\"showlegend\":true,\"x\":[13101.47059642166,12967.953141282476,8348.867455693711,11599.521377479892],\"xaxis\":\"x\",\"y\":[0.228,5.687,6.616,3.648],\"yaxis\":\"y\",\"type\":\"scatter\"},{\"customdata\":[[1001.241,\"South America\"],[3731.718,\"South America\"],[503.505,\"South America\"],[627.227,\"South America\"],[222.718,\"South America\"],[338.069,\"South America\"],[646.047,\"South America\"]],\"hovertemplate\":\"<b>%{hovertext}</b><br><br>Region=%{customdata[1]}<br>GDP per Capita (USD)=%{x:,.0f}<br>Renewable Energy Share (%)=%{y:.1f}<br>Total Energy Consumption (TWh)=%{customdata[0]:.1f}<extra></extra>\",\"hovertext\":[\"Argentina\",\"Brazil\",\"Chile\",\"Colombia\",\"Ecuador\",\"Peru\",\"Venezuela\"],\"legendgroup\":\"South America\",\"marker\":{\"color\":\"rgb(252,141,98)\",\"size\":[1001.241,3731.718,503.505,627.227,222.718,338.069,646.047],\"sizemode\":\"area\",\"sizeref\":17.806596799999998,\"symbol\":\"circle\",\"line\":{\"color\":\"white\",\"width\":0.5},\"opacity\":0.5},\"mode\":\"markers\",\"name\":\"South America\",\"orientation\":\"v\",\"showlegend\":true,\"x\":[18827.449454506408,15156.047209490453,22929.395340578194,14355.378297735406,9819.921656687438,10206.833422807047,5305.4360835078605],\"xaxis\":\"x\",\"y\":[12.01,47.66,26.079,28.384,28.426,26.155,26.484],\"yaxis\":\"y\",\"type\":\"scatter\"},{\"customdata\":[[1660.79,\"Oceania\"],[232.71,\"Oceania\"]],\"hovertemplate\":\"<b>%{hovertext}</b><br><br>Region=%{customdata[1]}<br>GDP per Capita (USD)=%{x:,.0f}<br>Renewable Energy Share (%)=%{y:.1f}<br>Total Energy Consumption (TWh)=%{customdata[0]:.1f}<extra></extra>\",\"hovertext\":[\"Australia\",\"New Zealand\"],\"legendgroup\":\"Oceania\",\"marker\":{\"color\":\"rgb(141,160,203)\",\"size\":[1660.79,232.71],\"sizemode\":\"area\",\"sizeref\":17.806596799999998,\"symbol\":\"circle\",\"line\":{\"color\":\"white\",\"width\":0.5},\"opacity\":0.5},\"mode\":\"markers\",\"name\":\"Oceania\",\"orientation\":\"v\",\"showlegend\":true,\"x\":[51305.48975572584,39091.05074049824],\"xaxis\":\"x\",\"y\":[13.247,43.295],\"yaxis\":\"y\",\"type\":\"scatter\"},{\"customdata\":[[381.823,\"Europe\"],[694.453,\"Europe\"],[229.39,\"Europe\"],[93.167,\"Europe\"],[31.674,\"Europe\"],[448.738,\"Europe\"],[194.229,\"Europe\"],[63.306,\"Europe\"],[320.232,\"Europe\"],[2306.192,\"Europe\"],[3455.45,\"Europe\"],[314.334,\"Europe\"],[267.047,\"Europe\"],[63.724,\"Europe\"],[186.452,\"Europe\"],[1755.465,\"Europe\"],[38.513,\"Europe\"],[65.066,\"Europe\"],[38.822,\"Europe\"],[954.098,\"Europe\"],[30.734,\"Europe\"],[533.568,\"Europe\"],[1186.868,\"Europe\"],[262.58,\"Europe\"],[360.166,\"Europe\"],[179.893,\"Europe\"],[70.602,\"Europe\"],[1592.166,\"Europe\"],[621.681,\"Europe\"],[297.485,\"Europe\"],[2009.944,\"Europe\"]],\"hovertemplate\":\"<b>%{hovertext}</b><br><br>Region=%{customdata[1]}<br>GDP per Capita (USD)=%{x:,.0f}<br>Renewable Energy Share (%)=%{y:.1f}<br>Total Energy Consumption (TWh)=%{customdata[0]:.1f}<extra></extra>\",\"hovertext\":[\"Austria\",\"Belgium\",\"Bulgaria\",\"Croatia\",\"Cyprus\",\"Czechia\",\"Denmark\",\"Estonia\",\"Finland\",\"France\",\"Germany\",\"Greece\",\"Hungary\",\"Iceland\",\"Ireland\",\"Italy\",\"Latvia\",\"Lithuania\",\"Luxembourg\",\"Netherlands\",\"North Macedonia\",\"Norway\",\"Poland\",\"Portugal\",\"Romania\",\"Slovakia\",\"Slovenia\",\"Spain\",\"Sweden\",\"Switzerland\",\"United Kingdom\"],\"legendgroup\":\"Europe\",\"marker\":{\"color\":\"rgb(231,138,195)\",\"size\":[381.823,694.453,229.39,93.167,31.674,448.738,194.229,63.306,320.232,2306.192,3455.45,314.334,267.047,63.724,186.452,1755.465,38.513,65.066,38.822,954.098,30.734,533.568,1186.868,262.58,360.166,179.893,70.602,1592.166,621.681,297.485,2009.944],\"sizemode\":\"area\",\"sizeref\":17.806596799999998,\"symbol\":\"circle\",\"line\":{\"color\":\"white\",\"width\":0.5},\"opacity\":0.5},\"mode\":\"markers\",\"name\":\"Europe\",\"orientation\":\"v\",\"showlegend\":true,\"x\":[43996.860748802515,42062.23523713212,20274.519425293704,26179.923882028816,25730.032502981994,32133.551811650315,50726.20957145079,29628.689444297124,40607.74388526722,40308.91615175105,46495.30896036942,25344.010129433787,29468.979329032816,42120.99212772335,60350.875170598,35827.62651124075,27245.10597251698,30109.375994365382,55304.12281655127,49128.18859890439,15634.342672193614,88391.10821545341,32069.797605664964,28387.449729529435,26334.26588474213,27472.3992234812,32803.456849144095,33978.599383265224,47125.100243542445,63623.38592340785,38358.150654098405],\"xaxis\":\"x\",\"y\":[35.134,10.436,12.026,25.053,7.765,7.496,40.792,13.241,34.897,13.726,20.329,18.783,8.957,82.075,19.42,15.951,26.646,14.382,11.035,14.417,13.053,69.648,9.37,28.753,17.783,9.672,15.912,20.877,52.434,31.096,19.072],\"yaxis\":\"y\",\"type\":\"scatter\"},{\"customdata\":[[210.286,\"Middle East\"],[3490.12,\"Middle East\"],[680.004,\"Middle East\"],[307.838,\"Middle East\"],[468.641,\"Middle East\"],[424.561,\"Middle East\"],[565.004,\"Middle East\"],[3150.054,\"Middle East\"],[1969.05,\"Middle East\"],[1352.948,\"Middle East\"]],\"hovertemplate\":\"<b>%{hovertext}</b><br><br>Region=%{customdata[1]}<br>GDP per Capita (USD)=%{x:,.0f}<br>Renewable Energy Share (%)=%{y:.1f}<br>Total Energy Consumption (TWh)=%{customdata[0]:.1f}<extra></extra>\",\"hovertext\":[\"Azerbaijan\",\"Iran\",\"Iraq\",\"Israel\",\"Kuwait\",\"Oman\",\"Qatar\",\"Saudi Arabia\",\"Turkey\",\"United Arab Emirates\"],\"legendgroup\":\"Middle East\",\"marker\":{\"color\":\"rgb(166,216,84)\",\"size\":[210.286,3490.12,680.004,307.838,468.641,424.561,565.004,3150.054,1969.05,1352.948],\"sizemode\":\"area\",\"sizeref\":17.806596799999998,\"symbol\":\"circle\",\"line\":{\"color\":\"white\",\"width\":0.5},\"opacity\":0.5},\"mode\":\"markers\",\"name\":\"Middle East\",\"orientation\":\"v\",\"showlegend\":true,\"x\":[17034.11273075677,17561.834383447997,11972.616482813564,36989.90244152153,47709.51220958774,37494.35574087154,131992.66780642778,56685.91192529947,27406.84229703638,76127.6123925787],\"xaxis\":\"x\",\"y\":[2.188,1.112,1.095,5.387,0.093,1.136,0.192,0.157,18.036,1.411],\"yaxis\":\"y\",\"type\":\"scatter\"},{\"customdata\":[[512.174,\"Asia\"],[44516.492,\"Asia\"],[217.409,\"Asia\"],[10059.478,\"Asia\"],[2749.242,\"Asia\"],[4996.771,\"Asia\"],[819.283,\"Asia\"],[1355.509,\"Asia\"],[979.101,\"Asia\"],[570.979,\"Asia\"],[895.63,\"Asia\"],[3619.57,\"Asia\"],[97.407,\"Asia\"],[1316.818,\"Asia\"],[1387.88,\"Asia\"],[471.771,\"Asia\"],[592.522,\"Asia\"],[1293.495,\"Asia\"]],\"hovertemplate\":\"<b>%{hovertext}</b><br><br>Region=%{customdata[1]}<br>GDP per Capita (USD)=%{x:,.0f}<br>Renewable Energy Share (%)=%{y:.1f}<br>Total Energy Consumption (TWh)=%{customdata[0]:.1f}<extra></extra>\",\"hovertext\":[\"Bangladesh\",\"China\",\"Hong Kong\",\"India\",\"Indonesia\",\"Japan\",\"Kazakhstan\",\"Malaysia\",\"Pakistan\",\"Philippines\",\"Singapore\",\"South Korea\",\"Sri Lanka\",\"Taiwan\",\"Thailand\",\"Turkmenistan\",\"Uzbekistan\",\"Vietnam\"],\"legendgroup\":\"Asia\",\"marker\":{\"color\":\"rgb(255,217,47)\",\"size\":[512.174,44516.492,217.409,10059.478,2749.242,4996.771,819.283,1355.509,979.101,570.979,895.63,3619.57,97.407,1316.818,1387.88,471.771,592.522,1293.495],\"sizemode\":\"area\",\"sizeref\":17.806596799999998,\"symbol\":\"circle\",\"line\":{\"color\":\"white\",\"width\":0.5},\"opacity\":0.5},\"mode\":\"markers\",\"name\":\"Asia\",\"orientation\":\"v\",\"showlegend\":true,\"x\":[5066.238077530883,18921.137308919868,47776.209765519314,7349.570768271165,12552.7649822242,38196.71140302656,25138.253159127107,25293.93087167494,5411.701255872082,8904.640145850599,81737.12885602105,41279.57762882433,11156.10146900932,53282.30855996001,15670.724869089157,13485.610358959506,11264.588364073512,8364.75498184672],\"xaxis\":\"x\",\"y\":[0.693,15.218,0.927,9.421,10.208,11.154,3.995,7.833,10.571,13.032,0.521,4.333,23.449,4.235,7.248,0.005,2.387,25.312],\"yaxis\":\"y\",\"type\":\"scatter\"},{\"customdata\":[[303.514,\"Other\"],[8626.76,\"Other\"],[618.781,\"Other\"]],\"hovertemplate\":\"<b>%{hovertext}</b><br><br>Region=%{customdata[1]}<br>GDP per Capita (USD)=%{x:,.0f}<br>Renewable Energy Share (%)=%{y:.1f}<br>Total Energy Consumption (TWh)=%{customdata[0]:.1f}<extra></extra>\",\"hovertext\":[\"Belarus\",\"Russia\",\"Ukraine\"],\"legendgroup\":\"Other\",\"marker\":{\"color\":\"rgb(229,196,148)\",\"size\":[303.514,8626.76,618.781],\"sizemode\":\"area\",\"sizeref\":17.806596799999998,\"symbol\":\"circle\",\"line\":{\"color\":\"white\",\"width\":0.5},\"opacity\":0.5},\"mode\":\"markers\",\"name\":\"Other\",\"orientation\":\"v\",\"showlegend\":true,\"x\":[19161.68864789675,25631.57590194681,7531.701169222902],\"xaxis\":\"x\",\"y\":[1.147,5.92,7.503],\"yaxis\":\"y\",\"type\":\"scatter\"},{\"customdata\":[[3964.521,\"North America\"],[2296.863,\"North America\"],[173.056,\"North America\"],[26512.51,\"North America\"]],\"hovertemplate\":\"<b>%{hovertext}</b><br><br>Region=%{customdata[1]}<br>GDP per Capita (USD)=%{x:,.0f}<br>Renewable Energy Share (%)=%{y:.1f}<br>Total Energy Consumption (TWh)=%{customdata[0]:.1f}<extra></extra>\",\"hovertext\":[\"Canada\",\"Mexico\",\"Trinidad and Tobago\",\"United States\"],\"legendgroup\":\"North America\",\"marker\":{\"color\":\"rgb(179,179,179)\",\"size\":[3964.521,2296.863,173.056,26512.51],\"sizemode\":\"area\",\"sizeref\":17.806596799999998,\"symbol\":\"circle\",\"line\":{\"color\":\"white\",\"width\":0.5},\"opacity\":0.5},\"mode\":\"markers\",\"name\":\"North America\",\"orientation\":\"v\",\"showlegend\":true,\"x\":[45369.4164333728,15810.505898801915,25078.004166143,57075.34440095972],\"xaxis\":\"x\",\"y\":[29.497,9.243,0.009,10.875],\"yaxis\":\"y\",\"type\":\"scatter\"}],                        {\"template\":{\"data\":{\"histogram2dcontour\":[{\"type\":\"histogram2dcontour\",\"colorbar\":{\"outlinewidth\":0,\"ticks\":\"\"},\"colorscale\":[[0.0,\"#0d0887\"],[0.1111111111111111,\"#46039f\"],[0.2222222222222222,\"#7201a8\"],[0.3333333333333333,\"#9c179e\"],[0.4444444444444444,\"#bd3786\"],[0.5555555555555556,\"#d8576b\"],[0.6666666666666666,\"#ed7953\"],[0.7777777777777778,\"#fb9f3a\"],[0.8888888888888888,\"#fdca26\"],[1.0,\"#f0f921\"]]}],\"choropleth\":[{\"type\":\"choropleth\",\"colorbar\":{\"outlinewidth\":0,\"ticks\":\"\"}}],\"histogram2d\":[{\"type\":\"histogram2d\",\"colorbar\":{\"outlinewidth\":0,\"ticks\":\"\"},\"colorscale\":[[0.0,\"#0d0887\"],[0.1111111111111111,\"#46039f\"],[0.2222222222222222,\"#7201a8\"],[0.3333333333333333,\"#9c179e\"],[0.4444444444444444,\"#bd3786\"],[0.5555555555555556,\"#d8576b\"],[0.6666666666666666,\"#ed7953\"],[0.7777777777777778,\"#fb9f3a\"],[0.8888888888888888,\"#fdca26\"],[1.0,\"#f0f921\"]]}],\"heatmap\":[{\"type\":\"heatmap\",\"colorbar\":{\"outlinewidth\":0,\"ticks\":\"\"},\"colorscale\":[[0.0,\"#0d0887\"],[0.1111111111111111,\"#46039f\"],[0.2222222222222222,\"#7201a8\"],[0.3333333333333333,\"#9c179e\"],[0.4444444444444444,\"#bd3786\"],[0.5555555555555556,\"#d8576b\"],[0.6666666666666666,\"#ed7953\"],[0.7777777777777778,\"#fb9f3a\"],[0.8888888888888888,\"#fdca26\"],[1.0,\"#f0f921\"]]}],\"heatmapgl\":[{\"type\":\"heatmapgl\",\"colorbar\":{\"outlinewidth\":0,\"ticks\":\"\"},\"colorscale\":[[0.0,\"#0d0887\"],[0.1111111111111111,\"#46039f\"],[0.2222222222222222,\"#7201a8\"],[0.3333333333333333,\"#9c179e\"],[0.4444444444444444,\"#bd3786\"],[0.5555555555555556,\"#d8576b\"],[0.6666666666666666,\"#ed7953\"],[0.7777777777777778,\"#fb9f3a\"],[0.8888888888888888,\"#fdca26\"],[1.0,\"#f0f921\"]]}],\"contourcarpet\":[{\"type\":\"contourcarpet\",\"colorbar\":{\"outlinewidth\":0,\"ticks\":\"\"}}],\"contour\":[{\"type\":\"contour\",\"colorbar\":{\"outlinewidth\":0,\"ticks\":\"\"},\"colorscale\":[[0.0,\"#0d0887\"],[0.1111111111111111,\"#46039f\"],[0.2222222222222222,\"#7201a8\"],[0.3333333333333333,\"#9c179e\"],[0.4444444444444444,\"#bd3786\"],[0.5555555555555556,\"#d8576b\"],[0.6666666666666666,\"#ed7953\"],[0.7777777777777778,\"#fb9f3a\"],[0.8888888888888888,\"#fdca26\"],[1.0,\"#f0f921\"]]}],\"surface\":[{\"type\":\"surface\",\"colorbar\":{\"outlinewidth\":0,\"ticks\":\"\"},\"colorscale\":[[0.0,\"#0d0887\"],[0.1111111111111111,\"#46039f\"],[0.2222222222222222,\"#7201a8\"],[0.3333333333333333,\"#9c179e\"],[0.4444444444444444,\"#bd3786\"],[0.5555555555555556,\"#d8576b\"],[0.6666666666666666,\"#ed7953\"],[0.7777777777777778,\"#fb9f3a\"],[0.8888888888888888,\"#fdca26\"],[1.0,\"#f0f921\"]]}],\"mesh3d\":[{\"type\":\"mesh3d\",\"colorbar\":{\"outlinewidth\":0,\"ticks\":\"\"}}],\"scatter\":[{\"fillpattern\":{\"fillmode\":\"overlay\",\"size\":10,\"solidity\":0.2},\"type\":\"scatter\"}],\"parcoords\":[{\"type\":\"parcoords\",\"line\":{\"colorbar\":{\"outlinewidth\":0,\"ticks\":\"\"}}}],\"scatterpolargl\":[{\"type\":\"scatterpolargl\",\"marker\":{\"colorbar\":{\"outlinewidth\":0,\"ticks\":\"\"}}}],\"bar\":[{\"error_x\":{\"color\":\"#2a3f5f\"},\"error_y\":{\"color\":\"#2a3f5f\"},\"marker\":{\"line\":{\"color\":\"#E5ECF6\",\"width\":0.5},\"pattern\":{\"fillmode\":\"overlay\",\"size\":10,\"solidity\":0.2}},\"type\":\"bar\"}],\"scattergeo\":[{\"type\":\"scattergeo\",\"marker\":{\"colorbar\":{\"outlinewidth\":0,\"ticks\":\"\"}}}],\"scatterpolar\":[{\"type\":\"scatterpolar\",\"marker\":{\"colorbar\":{\"outlinewidth\":0,\"ticks\":\"\"}}}],\"histogram\":[{\"marker\":{\"pattern\":{\"fillmode\":\"overlay\",\"size\":10,\"solidity\":0.2}},\"type\":\"histogram\"}],\"scattergl\":[{\"type\":\"scattergl\",\"marker\":{\"colorbar\":{\"outlinewidth\":0,\"ticks\":\"\"}}}],\"scatter3d\":[{\"type\":\"scatter3d\",\"line\":{\"colorbar\":{\"outlinewidth\":0,\"ticks\":\"\"}},\"marker\":{\"colorbar\":{\"outlinewidth\":0,\"ticks\":\"\"}}}],\"scattermapbox\":[{\"type\":\"scattermapbox\",\"marker\":{\"colorbar\":{\"outlinewidth\":0,\"ticks\":\"\"}}}],\"scatterternary\":[{\"type\":\"scatterternary\",\"marker\":{\"colorbar\":{\"outlinewidth\":0,\"ticks\":\"\"}}}],\"scattercarpet\":[{\"type\":\"scattercarpet\",\"marker\":{\"colorbar\":{\"outlinewidth\":0,\"ticks\":\"\"}}}],\"carpet\":[{\"aaxis\":{\"endlinecolor\":\"#2a3f5f\",\"gridcolor\":\"white\",\"linecolor\":\"white\",\"minorgridcolor\":\"white\",\"startlinecolor\":\"#2a3f5f\"},\"baxis\":{\"endlinecolor\":\"#2a3f5f\",\"gridcolor\":\"white\",\"linecolor\":\"white\",\"minorgridcolor\":\"white\",\"startlinecolor\":\"#2a3f5f\"},\"type\":\"carpet\"}],\"table\":[{\"cells\":{\"fill\":{\"color\":\"#EBF0F8\"},\"line\":{\"color\":\"white\"}},\"header\":{\"fill\":{\"color\":\"#C8D4E3\"},\"line\":{\"color\":\"white\"}},\"type\":\"table\"}],\"barpolar\":[{\"marker\":{\"line\":{\"color\":\"#E5ECF6\",\"width\":0.5},\"pattern\":{\"fillmode\":\"overlay\",\"size\":10,\"solidity\":0.2}},\"type\":\"barpolar\"}],\"pie\":[{\"automargin\":true,\"type\":\"pie\"}]},\"layout\":{\"autotypenumbers\":\"strict\",\"colorway\":[\"#636efa\",\"#EF553B\",\"#00cc96\",\"#ab63fa\",\"#FFA15A\",\"#19d3f3\",\"#FF6692\",\"#B6E880\",\"#FF97FF\",\"#FECB52\"],\"font\":{\"color\":\"#2a3f5f\"},\"hovermode\":\"closest\",\"hoverlabel\":{\"align\":\"left\"},\"paper_bgcolor\":\"white\",\"plot_bgcolor\":\"#E5ECF6\",\"polar\":{\"bgcolor\":\"#E5ECF6\",\"angularaxis\":{\"gridcolor\":\"white\",\"linecolor\":\"white\",\"ticks\":\"\"},\"radialaxis\":{\"gridcolor\":\"white\",\"linecolor\":\"white\",\"ticks\":\"\"}},\"ternary\":{\"bgcolor\":\"#E5ECF6\",\"aaxis\":{\"gridcolor\":\"white\",\"linecolor\":\"white\",\"ticks\":\"\"},\"baxis\":{\"gridcolor\":\"white\",\"linecolor\":\"white\",\"ticks\":\"\"},\"caxis\":{\"gridcolor\":\"white\",\"linecolor\":\"white\",\"ticks\":\"\"}},\"coloraxis\":{\"colorbar\":{\"outlinewidth\":0,\"ticks\":\"\"}},\"colorscale\":{\"sequential\":[[0.0,\"#0d0887\"],[0.1111111111111111,\"#46039f\"],[0.2222222222222222,\"#7201a8\"],[0.3333333333333333,\"#9c179e\"],[0.4444444444444444,\"#bd3786\"],[0.5555555555555556,\"#d8576b\"],[0.6666666666666666,\"#ed7953\"],[0.7777777777777778,\"#fb9f3a\"],[0.8888888888888888,\"#fdca26\"],[1.0,\"#f0f921\"]],\"sequentialminus\":[[0.0,\"#0d0887\"],[0.1111111111111111,\"#46039f\"],[0.2222222222222222,\"#7201a8\"],[0.3333333333333333,\"#9c179e\"],[0.4444444444444444,\"#bd3786\"],[0.5555555555555556,\"#d8576b\"],[0.6666666666666666,\"#ed7953\"],[0.7777777777777778,\"#fb9f3a\"],[0.8888888888888888,\"#fdca26\"],[1.0,\"#f0f921\"]],\"diverging\":[[0,\"#8e0152\"],[0.1,\"#c51b7d\"],[0.2,\"#de77ae\"],[0.3,\"#f1b6da\"],[0.4,\"#fde0ef\"],[0.5,\"#f7f7f7\"],[0.6,\"#e6f5d0\"],[0.7,\"#b8e186\"],[0.8,\"#7fbc41\"],[0.9,\"#4d9221\"],[1,\"#276419\"]]},\"xaxis\":{\"gridcolor\":\"white\",\"linecolor\":\"white\",\"ticks\":\"\",\"title\":{\"standoff\":15},\"zerolinecolor\":\"white\",\"automargin\":true,\"zerolinewidth\":2},\"yaxis\":{\"gridcolor\":\"white\",\"linecolor\":\"white\",\"ticks\":\"\",\"title\":{\"standoff\":15},\"zerolinecolor\":\"white\",\"automargin\":true,\"zerolinewidth\":2},\"scene\":{\"xaxis\":{\"backgroundcolor\":\"#E5ECF6\",\"gridcolor\":\"white\",\"linecolor\":\"white\",\"showbackground\":true,\"ticks\":\"\",\"zerolinecolor\":\"white\",\"gridwidth\":2},\"yaxis\":{\"backgroundcolor\":\"#E5ECF6\",\"gridcolor\":\"white\",\"linecolor\":\"white\",\"showbackground\":true,\"ticks\":\"\",\"zerolinecolor\":\"white\",\"gridwidth\":2},\"zaxis\":{\"backgroundcolor\":\"#E5ECF6\",\"gridcolor\":\"white\",\"linecolor\":\"white\",\"showbackground\":true,\"ticks\":\"\",\"zerolinecolor\":\"white\",\"gridwidth\":2}},\"shapedefaults\":{\"line\":{\"color\":\"#2a3f5f\"}},\"annotationdefaults\":{\"arrowcolor\":\"#2a3f5f\",\"arrowhead\":0,\"arrowwidth\":1},\"geo\":{\"bgcolor\":\"white\",\"landcolor\":\"#E5ECF6\",\"subunitcolor\":\"white\",\"showland\":true,\"showlakes\":true,\"lakecolor\":\"white\"},\"title\":{\"x\":0.05},\"mapbox\":{\"style\":\"light\"}}},\"xaxis\":{\"anchor\":\"y\",\"domain\":[0.0,1.0],\"title\":{\"text\":\"GDP per Capita (USD)\",\"font\":{\"size\":16}},\"gridcolor\":\"#D3D3D3\",\"type\":\"log\"},\"yaxis\":{\"anchor\":\"x\",\"domain\":[0.0,1.0],\"title\":{\"text\":\"Renewable Energy Share (%)\",\"font\":{\"size\":14}},\"gridcolor\":\"#D3D3D3\",\"range\":[-5,105]},\"legend\":{\"title\":{\"text\":\"Region\",\"font\":{\"size\":13}},\"tracegroupgap\":0,\"itemsizing\":\"constant\",\"font\":{\"size\":11},\"bordercolor\":\"lightgray\",\"borderwidth\":1},\"title\":{\"text\":\"GDP vs Renewable Energy Adoption based on Country (2022)\"},\"font\":{\"size\":12},\"width\":1200,\"height\":700,\"plot_bgcolor\":\"white\",\"hovermode\":\"closest\"},                        {\"responsive\": true}                    ).then(function(){\n",
       "                            \n",
       "var gd = document.getElementById('bb86df42-d7fa-4bf0-8d25-8beab8bde192');\n",
       "var x = new MutationObserver(function (mutations, observer) {{\n",
       "        var display = window.getComputedStyle(gd).display;\n",
       "        if (!display || display === 'none') {{\n",
       "            console.log([gd, 'removed!']);\n",
       "            Plotly.purge(gd);\n",
       "            observer.disconnect();\n",
       "        }}\n",
       "}});\n",
       "\n",
       "// Listen for the removal of the full notebook cells\n",
       "var notebookContainer = gd.closest('#notebook-container');\n",
       "if (notebookContainer) {{\n",
       "    x.observe(notebookContainer, {childList: true});\n",
       "}}\n",
       "\n",
       "// Listen for the clearing of the current output cell\n",
       "var outputEl = gd.closest('.output');\n",
       "if (outputEl) {{\n",
       "    x.observe(outputEl, {childList: true});\n",
       "}}\n",
       "\n",
       "                        })                };                });            </script>        </div>"
      ]
     },
     "metadata": {},
     "output_type": "display_data"
    }
   ],
   "source": [
    "import pandas as pd\n",
    "import plotly.express as px\n",
    "import plotly.graph_objects as go\n",
    "\n",
    "# Load the data\n",
    "filename = 'owid-energy-data.csv'\n",
    "data = pd.read_csv(filename)\n",
    "\n",
    "\n",
    "year_we_chose = 2022\n",
    "\n",
    "# copying for specific year\n",
    "scatter_data = data[data['year'] == year_we_chose].copy()\n",
    "\n",
    "# columns required\n",
    "scatter_data = scatter_data[['country', 'iso_code', 'gdp', 'population', 'renewables_share_energy', 'primary_energy_consumption']].copy()\n",
    "\n",
    "# remove na columns data\n",
    "scatter_data = scatter_data.dropna(subset=['gdp', 'population', 'renewables_share_energy', 'primary_energy_consumption'])\n",
    "\n",
    "# gdp per capita calculation\n",
    "scatter_data['gdp_per_capita'] = scatter_data['gdp'] / scatter_data['population']\n",
    "\n",
    "# removing countries with no ISO code for the regions\n",
    "scatter_data = scatter_data[scatter_data['iso_code'].notna()]\n",
    "\n",
    "# country names -> region\n",
    "def assign_region(country):\n",
    "    \n",
    "    european_countries = ['United Kingdom', 'France', 'Germany', 'Italy', 'Spain', 'Poland', \n",
    "                           'Romania', 'Netherlands', 'Belgium', 'Greece', 'Portugal', 'Sweden',\n",
    "                           'Austria', 'Hungary', 'Switzerland', 'Denmark', 'Finland', 'Norway',\n",
    "                           'Ireland', 'Croatia', 'Bosnia and Herzegovina', 'Albania', 'Lithuania',\n",
    "                           'Slovenia', 'Latvia', 'Estonia', 'Luxembourg', 'Malta', 'Iceland',\n",
    "                           'Montenegro', 'Cyprus', 'Czechia', 'Slovakia', 'Bulgaria', 'Serbia',\n",
    "                           'North Macedonia', 'Moldova']\n",
    "    \n",
    "    asia_countries = ['China', 'India', 'Japan', 'South Korea', 'Indonesia', 'Thailand',\n",
    "                         'Malaysia', 'Philippines', 'Vietnam', 'Bangladesh', 'Pakistan',\n",
    "                         'Myanmar', 'Singapore', 'Taiwan', 'Hong Kong', 'Sri Lanka', 'Nepal',\n",
    "                         'Cambodia', 'Mongolia', 'Laos', 'Brunei', 'Maldives', 'Bhutan',\n",
    "                         'Timor', 'Afghanistan', 'Kazakhstan', 'Uzbekistan', 'Turkmenistan',\n",
    "                         'Kyrgyzstan', 'Tajikistan']\n",
    "    \n",
    "    middle_east_countries = ['Saudi Arabia', 'United Arab Emirates', 'Iran', 'Iraq', 'Israel',\n",
    "                            'Turkey', 'Qatar', 'Kuwait', 'Oman', 'Lebanon', 'Jordan',\n",
    "                            'Bahrain', 'Yemen', 'Syria', 'Palestine', 'Armenia', 'Georgia',\n",
    "                            'Azerbaijan']\n",
    "    \n",
    "    africa_countries = ['South Africa', 'Egypt', 'Nigeria', 'Kenya', 'Ethiopia', 'Ghana',\n",
    "                       'Morocco', 'Algeria', 'Tunisia', 'Libya', 'Sudan', 'Tanzania',\n",
    "                       'Uganda', 'Mozambique', 'Madagascar', 'Cameroon', 'Angola', 'Zimbabwe',\n",
    "                       'Senegal', 'Mali', 'Zambia', 'Rwanda', 'Benin', 'Burkina Faso',\n",
    "                       'Malawi', 'Mauritius', 'Namibia', 'Botswana', 'Gabon', 'Mauritania',\n",
    "                       'Togo', 'Chad', 'Niger', 'Congo', 'Democratic Republic of Congo']\n",
    "    \n",
    "    north_america_countries = ['United States', 'Canada', 'Mexico', 'Guatemala', 'Cuba',\n",
    "                              'Haiti', 'Dominican Republic', 'Honduras', 'Nicaragua',\n",
    "                              'El Salvador', 'Costa Rica', 'Panama', 'Jamaica', 'Trinidad and Tobago']\n",
    "    \n",
    "    south_america_countries = ['Brazil', 'Argentina', 'Colombia', 'Chile', 'Peru', 'Venezuela',\n",
    "                              'Ecuador', 'Bolivia', 'Paraguay', 'Uruguay', 'Guyana', 'Suriname']\n",
    "    \n",
    "    oceania_countries = ['Australia', 'New Zealand', 'Papua New Guinea', 'Fiji']\n",
    "    \n",
    "    # assingning the region based on above defined lists\n",
    "    if country in european_countries:\n",
    "        return 'Europe'\n",
    "    elif country in asia_countries:\n",
    "        return 'Asia'\n",
    "    elif country in middle_east_countries:\n",
    "        return 'Middle East'\n",
    "    elif country in africa_countries:\n",
    "        return 'Africa'\n",
    "    elif country in north_america_countries:\n",
    "        return 'North America'\n",
    "    elif country in south_america_countries:\n",
    "        return 'South America'\n",
    "    elif country in oceania_countries:\n",
    "        return 'Oceania'\n",
    "    else:\n",
    "        return 'Other'\n",
    "\n",
    "#assingment for our data\n",
    "scatter_data['region'] = scatter_data['country'].apply(assign_region)\n",
    "\n",
    "\n",
    "# making the bubble chart scatter plot\n",
    "fig = px.scatter(scatter_data, x='gdp_per_capita', y='renewables_share_energy',size='primary_energy_consumption',color='region',\n",
    "                 hover_name='country',\n",
    "                 hover_data={'gdp_per_capita': ':,.0f','renewables_share_energy': ':.1f','primary_energy_consumption': ':.1f','region': True},\n",
    "                 labels={'gdp_per_capita': 'GDP per Capita (USD)',\n",
    "                     'renewables_share_energy': 'Renewable Energy Share (%)',\n",
    "                     'primary_energy_consumption': 'Total Energy Consumption (TWh)','region': 'Region'},\n",
    "                 title=f'GDP vs Renewable Energy Adoption based on Country ({year_we_chose})',\n",
    "                 size_max=50,color_discrete_sequence=px.colors.qualitative.Set2)\n",
    "\n",
    "# changing layout as the fixed one is not as visible\n",
    "fig.update_layout(\n",
    "    width=1200,height=700,font=dict(size=12),\n",
    "    xaxis=dict(title_font=dict(size=16),gridcolor='#D3D3D3',type='log'),\n",
    "    yaxis=dict(title_font=dict(size=14),gridcolor='#D3D3D3',range=[-5, 105]),\n",
    "    plot_bgcolor='white',\n",
    "    hovermode='closest',\n",
    "    legend=dict(title=dict(text='Region', font=dict(size=13)),font=dict(size=11),bordercolor='lightgray',borderwidth=1))\n",
    "\n",
    "fig.update_traces(marker=dict(line=dict(width=0.5, color='white'),opacity=0.5))\n",
    "fig.show()"
   ]
  },
  {
   "cell_type": "markdown",
   "id": "42ef5cbf",
   "metadata": {},
   "source": [
    "### Code Drafts"
   ]
  },
  {
   "cell_type": "code",
   "execution_count": 4,
   "id": "a0a968c1",
   "metadata": {},
   "outputs": [
    {
     "name": "stdout",
     "output_type": "stream",
     "text": [
      "<bound method DataFrame.info of              country  year  population           gdp  \\\n",
      "0      ASEAN (Ember)  2000         NaN           NaN   \n",
      "1      ASEAN (Ember)  2001         NaN           NaN   \n",
      "2      ASEAN (Ember)  2002         NaN           NaN   \n",
      "3      ASEAN (Ember)  2003         NaN           NaN   \n",
      "4      ASEAN (Ember)  2004         NaN           NaN   \n",
      "...              ...   ...         ...           ...   \n",
      "23190       Zimbabwe  2020  15526837.0  2.317871e+10   \n",
      "23191       Zimbabwe  2021  15797165.0  2.514009e+10   \n",
      "23192       Zimbabwe  2022  16069010.0  2.590159e+10   \n",
      "23193       Zimbabwe  2023  16340778.0           NaN   \n",
      "23194       Zimbabwe  2024  16634317.0           NaN   \n",
      "\n",
      "       primary_energy_consumption  renewables_consumption  \\\n",
      "0                             NaN                     NaN   \n",
      "1                             NaN                     NaN   \n",
      "2                             NaN                     NaN   \n",
      "3                             NaN                     NaN   \n",
      "4                             NaN                     NaN   \n",
      "...                           ...                     ...   \n",
      "23190                      33.586                     NaN   \n",
      "23191                      37.636                     NaN   \n",
      "23192                      58.380                     NaN   \n",
      "23193                      51.986                     NaN   \n",
      "23194                         NaN                     NaN   \n",
      "\n",
      "       fossil_fuel_consumption  net_elec_imports_share_demand  \\\n",
      "0                          NaN                            NaN   \n",
      "1                          NaN                            NaN   \n",
      "2                          NaN                            NaN   \n",
      "3                          NaN                            NaN   \n",
      "4                          NaN                            NaN   \n",
      "...                        ...                            ...   \n",
      "23190                      NaN                         22.785   \n",
      "23191                      NaN                         16.877   \n",
      "23192                      NaN                         17.604   \n",
      "23193                      NaN                         18.609   \n",
      "23194                      NaN                            NaN   \n",
      "\n",
      "       renewables_consumption_pct  \n",
      "0                             NaN  \n",
      "1                             NaN  \n",
      "2                             NaN  \n",
      "3                             NaN  \n",
      "4                             NaN  \n",
      "...                           ...  \n",
      "23190                         NaN  \n",
      "23191                         NaN  \n",
      "23192                         NaN  \n",
      "23193                         NaN  \n",
      "23194                         NaN  \n",
      "\n",
      "[23195 rows x 9 columns]>\n"
     ]
    },
    {
     "name": "stderr",
     "output_type": "stream",
     "text": [
      "/var/folders/k0/l12j_jv177l7yjpfx9rh_k100000gn/T/ipykernel_57228/2242374701.py:4: SettingWithCopyWarning: \n",
      "A value is trying to be set on a copy of a slice from a DataFrame.\n",
      "Try using .loc[row_indexer,col_indexer] = value instead\n",
      "\n",
      "See the caveats in the documentation: https://pandas.pydata.org/pandas-docs/stable/user_guide/indexing.html#returning-a-view-versus-a-copy\n",
      "  clean_data['renewables_consumption_pct'] = clean_data['renewables_consumption'] / clean_data['primary_energy_consumption'] * 100\n"
     ]
    }
   ],
   "source": [
    "# clean data to be only columns that we care about\n",
    "clean_data = data[['country', 'year', 'population', 'gdp', 'primary_energy_consumption', 'renewables_consumption', 'fossil_fuel_consumption', 'net_elec_imports_share_demand']]\n",
    "# clean_data['gdp_per_capita'] = clean_data['gdp'] / clean_data['population']\n",
    "clean_data['renewables_consumption_pct'] = clean_data['renewables_consumption'] / clean_data['primary_energy_consumption'] * 100\n",
    "print(clean_data.info)"
   ]
  },
  {
   "cell_type": "code",
   "execution_count": null,
   "id": "f041882e",
   "metadata": {
    "scrolled": true
   },
   "outputs": [
    {
     "name": "stdout",
     "output_type": "stream",
     "text": [
      "           country  year    population  gdp  primary_energy_consumption  \\\n",
      "23   ASEAN (Ember)  2023           NaN  NaN                         NaN   \n",
      "148    Afghanistan  2023  4.145471e+07  NaN                      41.060   \n",
      "272         Africa  2023  1.480768e+09  NaN                    6050.292   \n",
      "332    Africa (EI)  2023           NaN  NaN                    6050.292   \n",
      "377   Africa (EIA)  2023           NaN  NaN                    6051.291   \n",
      "\n",
      "     renewables_consumption  fossil_fuel_consumption  \\\n",
      "23                      NaN                      NaN   \n",
      "148                     NaN                      NaN   \n",
      "272                 554.704                 5444.936   \n",
      "332                 554.704                 5444.936   \n",
      "377                     NaN                      NaN   \n",
      "\n",
      "     net_elec_imports_share_demand  renewables_consumption_pct  \n",
      "23                             NaN                         NaN  \n",
      "148                         86.509                         NaN  \n",
      "272                          0.384                    9.168219  \n",
      "332                            NaN                    9.168219  \n",
      "377                            NaN                         NaN  \n",
      "country                            0\n",
      "year                               0\n",
      "population                        62\n",
      "gdp                              293\n",
      "primary_energy_consumption        23\n",
      "renewables_consumption           182\n",
      "fossil_fuel_consumption          182\n",
      "net_elec_imports_share_demand    108\n",
      "renewables_consumption_pct       182\n",
      "dtype: int64\n",
      "alt.Chart(...)\n"
     ]
    }
   ],
   "source": [
    "# x = gdp_per_capita\n",
    "# y = renewables_consumption_pct\n",
    "# size = primary_energy_consumption\n",
    "\n",
    "import altair as alt\n",
    "\n",
    "# Use the latest year available\n",
    "year = clean_data['year'].max() - 1\n",
    "most_recent_data = clean_data.query(\"year == @year\").copy()\n",
    "print(most_recent_data.head(5))\n",
    "\n",
    "# Figure out how many nulls are in the data\n",
    "column_nan_count = most_recent_data.isnull().sum()\n",
    "print(column_nan_count)\n",
    "\n",
    "# turns out that gdp column is usually null\n",
    "\n",
    "\n",
    "chart = alt.Chart(most_recent_data).mark_circle().encode(\n",
    "    x=alt.X('net_elec_imports_share_demand', scale=alt.Scale(type='log')),\n",
    "    y='renewables_consumption_pct',\n",
    "    size='primary_energy_consumption',\n",
    "    tooltip=['country', 'gdp_per_capita', 'renewables_consumption_pct', 'primary_energy_consumption']\n",
    ")"
   ]
  },
  {
   "cell_type": "code",
   "execution_count": null,
   "id": "3533ea80",
   "metadata": {},
   "outputs": [],
   "source": []
  }
 ],
 "metadata": {
  "kernelspec": {
   "display_name": "Python 3 (ipykernel)",
   "language": "python",
   "name": "python3"
  },
  "language_info": {
   "codemirror_mode": {
    "name": "ipython",
    "version": 3
   },
   "file_extension": ".py",
   "mimetype": "text/x-python",
   "name": "python",
   "nbconvert_exporter": "python",
   "pygments_lexer": "ipython3",
   "version": "3.10.9"
  }
 },
 "nbformat": 4,
 "nbformat_minor": 5
}
